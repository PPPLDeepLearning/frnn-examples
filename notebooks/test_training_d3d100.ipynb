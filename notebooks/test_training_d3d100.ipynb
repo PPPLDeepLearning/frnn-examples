{
 "cells": [
  {
   "cell_type": "markdown",
   "id": "3fd1a40e",
   "metadata": {},
   "source": [
    "# Train simple RNN model on d3d_100 dataset"
   ]
  },
  {
   "cell_type": "code",
   "execution_count": 1,
   "id": "40cbd6bb",
   "metadata": {},
   "outputs": [],
   "source": [
    "import logging\n",
    "import shutil\n",
    "import errno\n",
    "import tempfile\n",
    "from os import environ\n",
    "from os.path import join"
   ]
  },
  {
   "cell_type": "code",
   "execution_count": 2,
   "id": "8248ca6f",
   "metadata": {},
   "outputs": [],
   "source": [
    "environ[\"CUDA_VISIBLE_DEVICES\"] = \"1\""
   ]
  },
  {
   "cell_type": "code",
   "execution_count": 3,
   "id": "21eb0331",
   "metadata": {},
   "outputs": [],
   "source": [
    "import numpy as np\n",
    "\n",
    "import torch\n",
    "from torch.utils.data import DataLoader\n",
    "import torch.nn.functional as F\n",
    "import torch.nn as nn\n",
    "import torch.optim as optim\n",
    "\n",
    "from tqdm import tqdm\n",
    "\n",
    "import sys\n",
    "sys.path.append(\"/home/rkube/repos/frnn-loader\")\n",
    "\n",
    "import matplotlib.pyplot as plt"
   ]
  },
  {
   "cell_type": "code",
   "execution_count": 4,
   "id": "625653b4",
   "metadata": {},
   "outputs": [],
   "source": [
    "from frnn_loader.backends.fetchers import fetcher_d3d_v1\n",
    "from frnn_loader.backends.backend_hdf5 import backend_hdf5\n",
    "from frnn_loader.primitives.filters import filter_ip_thresh\n",
    "from frnn_loader.primitives.resamplers import resampler_causal\n",
    "from frnn_loader.primitives.signal import signal_0d\n",
    "from frnn_loader.primitives.normalizers import mean_std_normalizer\n",
    "from frnn_loader.loaders.frnn_dataset_disk import shot_dataset_disk\n",
    "from frnn_loader.loaders.frnn_multi_dataset import frnn_multi_dataset\n",
    "from frnn_loader.loaders.frnn_loader import batched_random_sequence_sampler\n",
    "\n",
    "\n",
    "from frnn_loader.utils.errors import SignalCorruptedError, NotDownloadedError"
   ]
  },
  {
   "cell_type": "code",
   "execution_count": 47,
   "id": "c1674598",
   "metadata": {},
   "outputs": [],
   "source": [
    "# Directory where all project data files are to be stored\n",
    "root = \"/projects/FRNN/frnn_loader\"\n",
    "\n",
    "# 1/ Describe the dataset\n",
    "predictor_tags = (\n",
    "    \"q95\",\n",
    "    \"efsli\",\n",
    "    \"ipspr15V\",\n",
    "    \"efsbetan\",\n",
    "    \"efswmhd\",\n",
    "    \"dssdenest\",\n",
    "    \"pradcore\",\n",
    "    \"pradedge\",\n",
    "    \"bmspinj\",\n",
    "    \"bmstinj\",\n",
    "    \"ipsiptargt\",\n",
    "    \"ipeecoil\"\n",
    ")\n",
    "predictor_list = tuple([signal_0d(tag) for tag in predictor_tags])\n",
    "\n",
    "# Contains a list of shots that are non-disruptive\n",
    "shotlist_clear = \"d3d_clear_100.txt\"\n",
    "# Contains a list of shots that are disruptive\n",
    "shotlist_disrupt = \"d3d_disrupt_100.txt\""
   ]
  },
  {
   "cell_type": "code",
   "execution_count": 48,
   "id": "4d5a30e0",
   "metadata": {},
   "outputs": [],
   "source": [
    "sig_q95 = signal_0d(\"q95\")"
   ]
  },
  {
   "cell_type": "code",
   "execution_count": 54,
   "id": "486be77c",
   "metadata": {},
   "outputs": [
    {
     "data": {
      "text/plain": [
       "True"
      ]
     },
     "execution_count": 54,
     "metadata": {},
     "output_type": "execute_result"
    }
   ],
   "source": [
    "isinstance(predictor_list, tuple)"
   ]
  },
  {
   "cell_type": "code",
   "execution_count": 55,
   "id": "0dad1d31",
   "metadata": {},
   "outputs": [
    {
     "data": {
      "text/plain": [
       "True"
      ]
     },
     "execution_count": 55,
     "metadata": {},
     "output_type": "execute_result"
    }
   ],
   "source": [
    "sig_q95 in predictor_list"
   ]
  },
  {
   "cell_type": "code",
   "execution_count": 57,
   "id": "e22bebfe",
   "metadata": {},
   "outputs": [
    {
     "data": {
      "text/plain": [
       "True"
      ]
     },
     "execution_count": 57,
     "metadata": {},
     "output_type": "execute_result"
    }
   ],
   "source": [
    "predictor_list[0] == signal_0d(\"q95\")"
   ]
  },
  {
   "cell_type": "code",
   "execution_count": 62,
   "id": "e9daa044",
   "metadata": {},
   "outputs": [
    {
     "ename": "ValueError",
     "evalue": "tuple.index(x): x not in tuple",
     "output_type": "error",
     "traceback": [
      "\u001b[0;31m---------------------------------------------------------------------------\u001b[0m",
      "\u001b[0;31mValueError\u001b[0m                                Traceback (most recent call last)",
      "Input \u001b[0;32mIn [62]\u001b[0m, in \u001b[0;36m<cell line: 1>\u001b[0;34m()\u001b[0m\n\u001b[0;32m----> 1\u001b[0m \u001b[43mpredictor_list\u001b[49m\u001b[38;5;241;43m.\u001b[39;49m\u001b[43mindex\u001b[49m\u001b[43m(\u001b[49m\u001b[43msignal_0d\u001b[49m\u001b[43m(\u001b[49m\u001b[38;5;124;43m\"\u001b[39;49m\u001b[38;5;124;43mqmin\u001b[39;49m\u001b[38;5;124;43m\"\u001b[39;49m\u001b[43m)\u001b[49m\u001b[43m)\u001b[49m\n",
      "\u001b[0;31mValueError\u001b[0m: tuple.index(x): x not in tuple"
     ]
    }
   ],
   "source": [
    "predictor_list.index(signal_0d(\"qmin\"))"
   ]
  },
  {
   "cell_type": "code",
   "execution_count": 44,
   "id": "c3fa48bb",
   "metadata": {},
   "outputs": [
    {
     "data": {
      "text/plain": [
       "'q95'"
      ]
     },
     "execution_count": 44,
     "metadata": {},
     "output_type": "execute_result"
    }
   ],
   "source": [
    "predictor_tags[0]"
   ]
  },
  {
   "cell_type": "code",
   "execution_count": 6,
   "id": "ecbd48f1",
   "metadata": {},
   "outputs": [],
   "source": [
    "cuda = torch.device(\"cuda:1\")"
   ]
  },
  {
   "cell_type": "code",
   "execution_count": 7,
   "id": "8654cf48",
   "metadata": {},
   "outputs": [],
   "source": [
    "# Instantiate the filter we use to crimp the shot times\n",
    "dt = 1.0 # Time used for resampling\n",
    "ip_filter = filter_ip_thresh(0.2)\n",
    "signal_ip = signal_0d(\"ipspr15V\")\n",
    "my_backend = backend_hdf5(root)\n",
    "my_fetcher = fetcher_d3d_v1()\n",
    "\n",
    "# These shots don't have enough data and are unusable\n",
    "# Several of them are also not disruptive but die to to carbon motes or other hardware failures\n",
    "skip_shots = [167516, 167517, 167548, 168439, 168441, 168450, 168484, 168500, 168442, 168443, 168483, 168485, 168486]"
   ]
  },
  {
   "cell_type": "code",
   "execution_count": 8,
   "id": "18a54c20",
   "metadata": {},
   "outputs": [
    {
     "name": "stderr",
     "output_type": "stream",
     "text": [
      " 21%|█████████████████████▏                                                                               | 21/100 [00:00<00:02, 30.30it/s]"
     ]
    },
    {
     "name": "stdout",
     "output_type": "stream",
     "text": [
      "--- Shot 167515: Error:  filter_ip_thresh - self.ip_thresh=0.2: Bad signal: Fewer than 100 points are valid.\n"
     ]
    },
    {
     "name": "stderr",
     "output_type": "stream",
     "text": [
      " 85%|█████████████████████████████████████████████████████████████████████████████████████▊               | 85/100 [00:01<00:00, 64.58it/s]"
     ]
    },
    {
     "name": "stdout",
     "output_type": "stream",
     "text": [
      "--- Shot 168440: Error:  filter_ip_thresh - self.ip_thresh=0.2: Bad signal: Fewer than 100 points are valid.\n",
      "--- Shot 168444: Error:  filter_ip_thresh - self.ip_thresh=0.2: Bad signal: Fewer than 100 points are valid.\n",
      "--- Shot 168487: Error:  filter_ip_thresh - self.ip_thresh=0.2: Bad signal: Fewer than 100 points are valid.\n",
      "--- Shot 168488: Error:  filter_ip_thresh - self.ip_thresh=0.2: Bad signal: Fewer than 100 points are valid.\n",
      "--- Shot 168490: Error:  filter_ip_thresh - self.ip_thresh=0.2: Bad signal: Fewer than 100 points are valid.\n",
      "--- Shot 168491: Error:  filter_ip_thresh - self.ip_thresh=0.2: Bad signal: Fewer than 100 points are valid.\n"
     ]
    },
    {
     "name": "stderr",
     "output_type": "stream",
     "text": [
      "100%|████████████████████████████████████████████████████████████████████████████████████████████████████| 100/100 [00:02<00:00, 49.90it/s]\n"
     ]
    }
   ],
   "source": [
    "shotdict = {}\n",
    "\n",
    "with open(join(root, \"..\", \"shot_lists\", shotlist_clear), \"r\") as fp:\n",
    "    for line in tqdm(fp.readlines()):\n",
    "        # Convert shotnr to int and ttd to float\n",
    "        shotnr, ttd = [trf(val) for trf, val in zip([int, float], line.split())]\n",
    "        \n",
    "        # Run the Ip filter over the current shot.\n",
    "        # For this we need the shot raw-data. Ask the backend to load it.\n",
    "        try:\n",
    "            tb, signal_data = my_backend.load(signal_ip.info, shotnr)\n",
    "        except NotDownloadedError:\n",
    "            # IF it's now downloaded a NotDownloadedError is thrown.\n",
    "            # Then use the fetcher to manually download it\n",
    "            tb, _, signal_data, _, _, _ = my_fetcher.fetch(signal_ip.info, shotnr)\n",
    "            my_backend.store(signal_ip.info, shotnr, tb, signal_data)\n",
    "        # Some shots in d3d_clear_100 have no plasma. Skip these shots.\n",
    "        if shotnr in skip_shots:\n",
    "            continue\n",
    "        try:\n",
    "            tmin, tmax = ip_filter(tb, signal_data)\n",
    "        except SignalCorruptedError as err:\n",
    "            print(f\"--- Shot {shotnr}: Error: \", err)\n",
    "            continue\n",
    "            \n",
    "        shotdict.update(\n",
    "            {\n",
    "                shotnr: {\n",
    "                    \"tmin\": tmin,\n",
    "                    \"tmax\": tmax,\n",
    "                    \"is_disruptive\": False,\n",
    "                    \"t_disrupt\": -1.0,\n",
    "                }\n",
    "            }\n",
    "        )"
   ]
  },
  {
   "cell_type": "code",
   "execution_count": 9,
   "id": "8cb3499a",
   "metadata": {},
   "outputs": [
    {
     "name": "stderr",
     "output_type": "stream",
     "text": [
      "100%|████████████████████████████████████████████████████████████████████████████████████████████████████| 100/100 [00:01<00:00, 88.62it/s]\n"
     ]
    }
   ],
   "source": [
    "with open(join(root, \"..\", \"shot_lists\", shotlist_disrupt), \"r\") as fp:\n",
    "    for line in tqdm(fp.readlines()):\n",
    "        # Convert shotnr to int and ttd to float\n",
    "        shotnr, ttd = [trf(val) for trf, val in zip([int, float], line.split())]\n",
    "        \n",
    "        # Run the Ip filter over the current shot.\n",
    "        # For this we need the shot raw-data. Ask the backend to load it.\n",
    "        try:\n",
    "            tb, signal_data = my_backend.load(signal_ip.info, shotnr)\n",
    "        except NotDownloadedError:\n",
    "            # IF it's now downloaded a NotDownloadedError is thrown.\n",
    "            # Then use the fetcher to manually download it\n",
    "            tb, _, signal_data, _, _, _ = my_fetcher.fetch(signal_ip.info, shotnr)\n",
    "            my_backend.store(signal_ip.info, shotnr, tb, signal_data)\n",
    "        \n",
    "        if shotnr in skip_shots:\n",
    "            continue\n",
    "        # ttd is given in seconds in the text files. Convert it to milliseconds\n",
    "        ttd = ttd * 1e3\n",
    "        shotdict.update(\n",
    "            {\n",
    "                shotnr: {\n",
    "                    \"tmin\": tmin,\n",
    "                    \"tmax\": ttd,\n",
    "                    \"is_disruptive\": True,\n",
    "                    \"t_disrupt\": ttd,\n",
    "                }\n",
    "            }\n",
    "        )\n"
   ]
  },
  {
   "cell_type": "code",
   "execution_count": 10,
   "id": "3beb22d1",
   "metadata": {},
   "outputs": [
    {
     "name": "stderr",
     "output_type": "stream",
     "text": [
      "100%|████████████████████████████████████████████████████████████████████████████████████████████████████| 180/180 [00:32<00:00,  5.61it/s]\n"
     ]
    }
   ],
   "source": [
    "#########################################################################################################\n",
    "#\n",
    "# Next we create a list of datasets for all shots.\n",
    "# The shots are cut to the time intervals defined by tmin and tmax\n",
    "# A normalizer is calculated from these datasets.\n",
    "# After the normalizer has been calculated the hdf5 files generated by\n",
    "# these dataset are to be deleted using ds.delete_data_file\n",
    "\n",
    "dset_unnormalized_list = []\n",
    "for shotnr in tqdm(shotdict.keys()):\n",
    "    # Resample all signals over the valid intervals\n",
    "    my_resampler = resampler_causal(0.0, shotdict[shotnr][\"tmax\"], dt)\n",
    "\n",
    "    ds = shot_dataset_disk(\n",
    "        shotnr,\n",
    "        predictors=predictor_list,\n",
    "        resampler=my_resampler,\n",
    "        backend_file=my_backend,\n",
    "        fetcher=my_fetcher,\n",
    "        root=root,\n",
    "        download=True,\n",
    "        normalizer=None,\n",
    "        is_disruptive=shotdict[shotnr][\"is_disruptive\"],\n",
    "        target=None,\n",
    "        #target = target_TTD(dt, shotdict[shotnr][is_disruptive]),\n",
    "        dtype=torch.float32)\n",
    "\n",
    "    dset_unnormalized_list.append(ds)"
   ]
  },
  {
   "cell_type": "code",
   "execution_count": 13,
   "id": "8fb737e9",
   "metadata": {},
   "outputs": [
    {
     "data": {
      "text/plain": [
       "[167480,\n",
       " 167487,\n",
       " 167488,\n",
       " 167492,\n",
       " 167494,\n",
       " 167496,\n",
       " 167497,\n",
       " 167498,\n",
       " 167500,\n",
       " 167501,\n",
       " 167503,\n",
       " 167505,\n",
       " 167550,\n",
       " 167556,\n",
       " 167557,\n",
       " 167558,\n",
       " 167559,\n",
       " 167560,\n",
       " 167561,\n",
       " 167562,\n",
       " 167564,\n",
       " 167565,\n",
       " 167566,\n",
       " 167586,\n",
       " 167587,\n",
       " 167588,\n",
       " 167590,\n",
       " 167591,\n",
       " 167592,\n",
       " 167593,\n",
       " 167594,\n",
       " 167595,\n",
       " 167596,\n",
       " 167597,\n",
       " 167598,\n",
       " 167599,\n",
       " 167610,\n",
       " 167611,\n",
       " 167612,\n",
       " 167613,\n",
       " 167614,\n",
       " 167615,\n",
       " 167616,\n",
       " 167617,\n",
       " 167619,\n",
       " 167621,\n",
       " 167622,\n",
       " 168445,\n",
       " 168446,\n",
       " 168447,\n",
       " 168448,\n",
       " 168449,\n",
       " 168489,\n",
       " 168492,\n",
       " 168493,\n",
       " 168494,\n",
       " 168495,\n",
       " 168501,\n",
       " 168502,\n",
       " 168503,\n",
       " 168505,\n",
       " 168506,\n",
       " 168507,\n",
       " 168508,\n",
       " 168509,\n",
       " 168510,\n",
       " 168511,\n",
       " 168512,\n",
       " 168513,\n",
       " 168514,\n",
       " 168515,\n",
       " 168517,\n",
       " 168518,\n",
       " 168520,\n",
       " 168521,\n",
       " 168522,\n",
       " 168527,\n",
       " 168528,\n",
       " 168531,\n",
       " 168532,\n",
       " 168533,\n",
       " 168538,\n",
       " 168539,\n",
       " 168540,\n",
       " 168541,\n",
       " 168542,\n",
       " 168543,\n",
       " 168545,\n",
       " 168546,\n",
       " 168547,\n",
       " 168549,\n",
       " 168550,\n",
       " 168552,\n",
       " 168553,\n",
       " 168555]"
      ]
     },
     "execution_count": 13,
     "metadata": {},
     "output_type": "execute_result"
    }
   ],
   "source": []
  },
  {
   "cell_type": "code",
   "execution_count": 18,
   "id": "ec992695",
   "metadata": {},
   "outputs": [
    {
     "name": "stdout",
     "output_type": "stream",
     "text": [
      "True\n"
     ]
    }
   ],
   "source": [
    "print(ds.is_disruptive)\n",
    "target = ds[:][1]\n"
   ]
  },
  {
   "cell_type": "code",
   "execution_count": 21,
   "id": "e20679c4",
   "metadata": {},
   "outputs": [
    {
     "data": {
      "text/plain": [
       "[<matplotlib.lines.Line2D at 0x20002da1f400>]"
      ]
     },
     "execution_count": 21,
     "metadata": {},
     "output_type": "execute_result"
    },
    {
     "data": {
      "image/png": "[encoded data removed]",
      "text/plain": [
       "<Figure size 432x288 with 1 Axes>"
      ]
     },
     "metadata": {
      "needs_background": "light"
     },
     "output_type": "display_data"
    }
   ],
   "source": [
    "plt.plot(target[-200:])"
   ]
  },
  {
   "cell_type": "code",
   "execution_count": 23,
   "id": "416d1f8b",
   "metadata": {},
   "outputs": [
    {
     "data": {
      "text/plain": [
       "frnn_loader.primitives.signal.signal_0d"
      ]
     },
     "execution_count": 23,
     "metadata": {},
     "output_type": "execute_result"
    }
   ],
   "source": [
    "type(ds.predictors[0])"
   ]
  },
  {
   "cell_type": "code",
   "execution_count": 24,
   "id": "7fa34ada",
   "metadata": {},
   "outputs": [
    {
     "data": {
      "text/plain": [
       "['__class__',\n",
       " '__delattr__',\n",
       " '__dict__',\n",
       " '__dir__',\n",
       " '__doc__',\n",
       " '__eq__',\n",
       " '__format__',\n",
       " '__ge__',\n",
       " '__getattribute__',\n",
       " '__gt__',\n",
       " '__hash__',\n",
       " '__init__',\n",
       " '__init_subclass__',\n",
       " '__le__',\n",
       " '__lt__',\n",
       " '__module__',\n",
       " '__ne__',\n",
       " '__new__',\n",
       " '__reduce__',\n",
       " '__reduce_ex__',\n",
       " '__repr__',\n",
       " '__setattr__',\n",
       " '__sizeof__',\n",
       " '__str__',\n",
       " '__subclasshook__',\n",
       " '__weakref__',\n",
       " 'fetch_data',\n",
       " 'info',\n",
       " 'load_data',\n",
       " 'num_channels',\n",
       " 'root',\n",
       " 'tag']"
      ]
     },
     "execution_count": 24,
     "metadata": {},
     "output_type": "execute_result"
    }
   ],
   "source": [
    "dir(ds.predictors[0])"
   ]
  },
  {
   "cell_type": "code",
   "execution_count": 33,
   "id": "4d724b30",
   "metadata": {},
   "outputs": [
    {
     "data": {
      "text/plain": [
       "[D3D: Q95 safety factor,\n",
       " D3D: Internal inductance,\n",
       " D3D: Plasma Current,\n",
       " D3D: Normalized beta,\n",
       " D3D: Stored Energy,\n",
       " D3D: Plasma Density,\n",
       " D3D: Radiated Power Core,\n",
       " D3D: Radiated Power Edge,\n",
       " D3D: Beam input power,\n",
       " D3D: Beam input torque,\n",
       " D3D: Plasma current target,\n",
       " D3D: Plasma current error]"
      ]
     },
     "execution_count": 33,
     "metadata": {},
     "output_type": "execute_result"
    }
   ],
   "source": [
    "[p for p in ds.predictors if p.num_channels==1]"
   ]
  },
  {
   "cell_type": "code",
   "execution_count": 34,
   "id": "44fe9787",
   "metadata": {},
   "outputs": [
    {
     "data": {
      "text/plain": [
       "True"
      ]
     },
     "execution_count": 34,
     "metadata": {},
     "output_type": "execute_result"
    }
   ],
   "source": [
    "ds.predictors[0] == ds.predictors[0]"
   ]
  },
  {
   "cell_type": "code",
   "execution_count": 36,
   "id": "72d1a31a",
   "metadata": {},
   "outputs": [
    {
     "data": {
      "text/plain": [
       "True"
      ]
     },
     "execution_count": 36,
     "metadata": {},
     "output_type": "execute_result"
    }
   ],
   "source": [
    "dset_unnormalized_list[0].predictors[0] == dset_unnormalized_list[1].predictors[0]"
   ]
  },
  {
   "cell_type": "code",
   "execution_count": null,
   "id": "616ee88c",
   "metadata": {},
   "outputs": [],
   "source": [
    "#########################################################################################################\n",
    "#\n",
    "# With all datasets cropped to the correct time in place we continue by calculating the normalization.\n",
    "# Do this using multi-processing\n",
    "my_normalizer = mean_std_normalizer()\n",
    "my_normalizer.fit(dset_unnormalized_list)\n",
    "\n",
    "print(my_normalizer.mean_all)\n",
    "print(my_normalizer.std_all)"
   ]
  },
  {
   "cell_type": "code",
   "execution_count": null,
   "id": "4cda0e7e",
   "metadata": {},
   "outputs": [],
   "source": [
    "# With a normalizer at hand, we can now safely delete the datafiles from the\n",
    "# un-normalized shots.\n",
    "# Then re-instantiate the datasets using the trained normalizer\n",
    "dset_normalized_list = []\n",
    "for shotnr in tqdm(shotdict.keys()):\n",
    "\n",
    "    # Resample all signals over the valid intervals\n",
    "    my_resampler = resampler_causal(0.0, shotdict[shotnr][\"tmax\"], 1.0)\n",
    "\n",
    "    ds = shot_dataset_disk(\n",
    "        shotnr,\n",
    "        predictors=predictor_list,\n",
    "        resampler=my_resampler,\n",
    "        backend_file=my_backend,\n",
    "        fetcher=my_fetcher,\n",
    "        root=root,\n",
    "        download=True,\n",
    "        normalizer=my_normalizer,\n",
    "        is_disruptive=shotdict[shotnr][\"is_disruptive\"],\n",
    "        dtype=torch.float32,\n",
    "    )\n",
    "    dset_normalized_list.append(ds)\n",
    "\n",
    "dset_work = frnn_multi_dataset(dset_normalized_list)"
   ]
  },
  {
   "cell_type": "code",
   "execution_count": null,
   "id": "9b433b82",
   "metadata": {},
   "outputs": [],
   "source": [
    "for i in range(4):\n",
    "    print(dset_work[i][:][0].shape)\n",
    "    print(dset_work[i][:][1].shape)"
   ]
  },
  {
   "cell_type": "code",
   "execution_count": null,
   "id": "e13e54ff",
   "metadata": {},
   "outputs": [],
   "source": [
    "for i in range(4):\n",
    "    plt.figure()\n",
    "    plt.subplot(1,2,1)\n",
    "    plt.plot(dset_work[i][:][0]);\n",
    "    plt.subplot(1,2,2)\n",
    "    plt.plot(dset_work[i][:][1]);"
   ]
  },
  {
   "cell_type": "code",
   "execution_count": null,
   "id": "f1c46e37",
   "metadata": {},
   "outputs": [],
   "source": [
    "def my_collate_fn(input):\n",
    "    \"\"\"Reshape list of inputs to torch.tensor\n",
    "\n",
    "    Input is a list of length 1. The only element is the list returned\n",
    "    by frnn_multi_dataset.__getitem__\n",
    "\n",
    "    We\n",
    "    \"\"\"\n",
    "    X_vals = torch.stack([t[0] for t in input[0]])\n",
    "    Y_vals = torch.stack([t[1] for t in input[0]])\n",
    "\n",
    "    return X_vals, Y_vals"
   ]
  },
  {
   "cell_type": "code",
   "execution_count": null,
   "id": "2baec49d",
   "metadata": {},
   "outputs": [],
   "source": [
    "# This sampler pulls a batch of `batch_size` sequences, each of length `seq_length\n",
    "# from the dataset. The sequences start at random places and are uniformly distributed\n",
    "# over the shots of the dataset.\n",
    "my_sampler = batched_random_sequence_sampler(dset_work, seq_length=400, batch_size=32)\n",
    "# Default pytorch dataloader. Batch shape is defined through my_sampler\n",
    "# my_collate_fn is used to transform output from dataset.__getitem__ to a torch.tensor\n",
    "my_loader = DataLoader(dset_work, sampler=my_sampler, collate_fn=my_collate_fn)"
   ]
  },
  {
   "cell_type": "code",
   "execution_count": null,
   "id": "ce0415c6",
   "metadata": {},
   "outputs": [],
   "source": [
    "# Set up a simple model. Use parameters in plasma-python/examples/conf.yaml\n",
    "# And model construction written in plasma/models/builder.py, build_model\n",
    "\n",
    "class SimpleLSTM(nn.Module):\n",
    "    \"\"\"Simple LSTM for TTD prediction.\"\"\"\n",
    "    def __init__(self, size_in):\n",
    "        super(SimpleLSTM, self).__init__()\n",
    "        self.size_in = size_in\n",
    "        self.pre_rnn = nn.Sequential(\n",
    "            nn.Linear(self.size_in, 128),\n",
    "            nn.ReLU(),\n",
    "            nn.Linear(128, 128//2),\n",
    "            nn.ReLU(),\n",
    "            nn.Linear(128//2, 128//4)\n",
    "        )\n",
    "        \n",
    "        # https://pytorch.org/docs/stable/generated/torch.nn.LSTM.html?highlight=lstm#torch.nn.LSTM\n",
    "        self.lstm = nn.LSTM(128//4, 32, num_layers=2, batch_first=True)\n",
    "        self.final = nn.Linear(32, 1)\n",
    "        \n",
    "    def forward(self, x):\n",
    "        x = self.pre_rnn(x)\n",
    "        # LSTM has 3 outputs.\n",
    "        # 1. X\n",
    "        # 2. h\n",
    "        # 3. c\n",
    "        x, h_c = self.lstm(x)\n",
    "        x = self.final(x)\n",
    "        \n",
    "        return x"
   ]
  },
  {
   "cell_type": "code",
   "execution_count": null,
   "id": "efc4f0a8",
   "metadata": {},
   "outputs": [],
   "source": [
    "model = SimpleLSTM(12).cuda()\n",
    "print(model)"
   ]
  },
  {
   "cell_type": "code",
   "execution_count": null,
   "id": "f5cad10e",
   "metadata": {},
   "outputs": [],
   "source": [
    "# Set up training:\n",
    "num_epochs = 30\n",
    "\n",
    "# Loss function\n",
    "loss_fn = nn.MSELoss()\n",
    "# Optimizer\n",
    "opt = optim.Adam(model.parameters(), weight_decay=1e-4)"
   ]
  },
  {
   "cell_type": "code",
   "execution_count": null,
   "id": "97ba1386",
   "metadata": {},
   "outputs": [],
   "source": [
    "for num_batch, XY in enumerate(my_loader):\n",
    "    X, Y = XY\n",
    "    print(X.shape)\n",
    "    print(Y.shape)\n",
    "    break"
   ]
  },
  {
   "cell_type": "code",
   "execution_count": null,
   "id": "31089d17",
   "metadata": {},
   "outputs": [],
   "source": [
    "# Iterate over training set\n",
    "loss_vec = np.zeros(num_epochs)\n",
    "\n",
    "for epoch in range(num_epochs):\n",
    "    loss_epoch = 0.0\n",
    "    num_batches = 0\n",
    "    for num_batch, XY in enumerate(my_loader):\n",
    "        X, Y = XY\n",
    "        X = X.cuda()\n",
    "        Y = Y.cuda()\n",
    "        opt.zero_grad()\n",
    "        \n",
    "        output = model(X[:, :-1, :])\n",
    "        loss = loss_fn(output, Y[:, 1:, :])\n",
    "        loss.backward()\n",
    "        opt.step()\n",
    "        num_batches += 1\n",
    "\n",
    "        loss_epoch += loss.item()\n",
    "    if epoch % 10 == 0:   \n",
    "        print(f\"Epoch {(epoch+1):3d}: loss={(loss_epoch):8.6e}\")\n",
    "    loss_vec[epoch] = loss_epoch\n",
    "    \n",
    "plt.plot(loss_vec)\n",
    "plt.ylabel(\"MSE loss\")"
   ]
  },
  {
   "cell_type": "code",
   "execution_count": null,
   "id": "f92b3841",
   "metadata": {},
   "outputs": [],
   "source": [
    "plt.plot(loss_vec[1:])"
   ]
  },
  {
   "cell_type": "code",
   "execution_count": null,
   "id": "aa4b91a2",
   "metadata": {},
   "outputs": [],
   "source": [
    "i = 0\n",
    "for xy in my_loader:\n",
    "    X, Y = XY\n",
    "    print(X.shape)\n",
    "    i = i + 1 #break\n",
    "    break\n",
    "print(i)\n",
    "Y_pred = model(X.cuda()).cpu()"
   ]
  },
  {
   "cell_type": "code",
   "execution_count": null,
   "id": "aa989b8d",
   "metadata": {},
   "outputs": [],
   "source": [
    "X.shape"
   ]
  },
  {
   "cell_type": "code",
   "execution_count": null,
   "id": "359f6975",
   "metadata": {
    "scrolled": false
   },
   "outputs": [],
   "source": [
    "for i in range(Y.shape[0]):\n",
    "    plt.figure()\n",
    "    plt.plot(Y[i, 1:, 0].detach().cpu().numpy())\n",
    "    plt.plot(Y_pred[i, 1:, 0].detach().cpu().numpy())"
   ]
  },
  {
   "cell_type": "code",
   "execution_count": null,
   "id": "85add8fc",
   "metadata": {},
   "outputs": [],
   "source": []
  }
 ],
 "metadata": {
  "kernelspec": {
   "display_name": "Python 3 (ipykernel)",
   "language": "python",
   "name": "python3"
  },
  "language_info": {
   "codemirror_mode": {
    "name": "ipython",
    "version": 3
   },
   "file_extension": ".py",
   "mimetype": "text/x-python",
   "name": "python",
   "nbconvert_exporter": "python",
   "pygments_lexer": "ipython3",
   "version": "3.8.13"
  }
 },
 "nbformat": 4,
 "nbformat_minor": 5
}
