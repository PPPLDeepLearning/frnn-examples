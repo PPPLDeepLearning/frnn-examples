{
 "cells": [
  {
   "cell_type": "code",
   "execution_count": null,
   "id": "5b406e88",
   "metadata": {},
   "outputs": [
    {
     "name": "stdout",
     "output_type": "stream",
     "text": [
      "/home/rkube/frnn_work/run0_ges_code\n"
     ]
    }
   ],
   "source": [
    "%cd /home/rkube/frnn_work/run0_ges_code\n",
    "%pwd\n",
    "%matplotlib inline"
   ]
  },
  {
   "cell_type": "markdown",
   "id": "2c0f20fb",
   "metadata": {},
   "source": [
    "I'm trying to understand the function `find_elm_events_tar` that extracts among other time-to-elm from filterscope data. As a basis I'm trying to re-create the bottom line of this plot that Ge showed in her LDRD presentation\n",
    "\n",
    "This is DIII-D 174829\n",
    "\n",
    "![target_fs07.png](target_fs07.png)"
   ]
  },
  {
   "cell_type": "code",
   "execution_count": 2,
   "id": "2d2f29a1",
   "metadata": {},
   "outputs": [],
   "source": [
    "shotnr = 174829"
   ]
  },
  {
   "cell_type": "code",
   "execution_count": 97,
   "id": "465ed71f",
   "metadata": {},
   "outputs": [],
   "source": [
    "import numpy as np\n",
    "import matplotlib.pyplot as plt\n",
    "from os.path import join\n",
    "\n",
    "import shots\n",
    "import loader\n",
    "import data\n",
    "import math\n",
    "from signals import d3d"
   ]
  },
  {
   "cell_type": "code",
   "execution_count": 4,
   "id": "8aa0350d",
   "metadata": {},
   "outputs": [
    {
     "name": "stdout",
     "output_type": "stream",
     "text": [
      "reading from multiple data folder!**********************************************\n",
      "Selected signals (determines which signals are used for training):\n",
      "[q95 safety factor, filterscope fs07, neped, peped, newid, teped, tewid, plasma current, Locked mode amplitude, Normalized Beta, stored energy, Plasma density, Radiated Power Core, Radiated Power Edge, Input Power (beam for d3d), Input Beam Torque, n1 finite frequency signals, q profile efitrt1, Electron temperature profile, Electron density profile, mpi66m322d_spectrogram]\n"
     ]
    }
   ],
   "source": [
    "from conf_parser import parameters\n",
    "conf = parameters(\"conf.yaml\")"
   ]
  },
  {
   "cell_type": "code",
   "execution_count": 5,
   "id": "de3d7e98",
   "metadata": {},
   "outputs": [],
   "source": [
    "import preprocess\n"
   ]
  },
  {
   "cell_type": "code",
   "execution_count": 222,
   "id": "df2fc99b",
   "metadata": {},
   "outputs": [],
   "source": [
    "import torch"
   ]
  },
  {
   "cell_type": "code",
   "execution_count": 6,
   "id": "a4c168fb",
   "metadata": {},
   "outputs": [
    {
     "data": {
      "text/plain": [
       "[Minimum safety factor,\n",
       " n1 finite frequency signals,\n",
       " n2 finite frequency signals_10ms,\n",
       " n3 finite frequency signals_10ms,\n",
       " q95 safety factor,\n",
       " internal inductance,\n",
       " plasma current,\n",
       " Normalized Beta,\n",
       " stored energy,\n",
       " Locked mode amplitude,\n",
       " Plasma density,\n",
       " Radiated Power Core,\n",
       " filterscope fs07,\n",
       " Radiated Power Edge,\n",
       " Radiated Power,\n",
       " Input Power (beam for d3d),\n",
       " Input Beam Torque,\n",
       " neped,\n",
       " teped,\n",
       " newid,\n",
       " peped,\n",
       " tewid,\n",
       " plasma current target,\n",
       " Electron temperature profile,\n",
       " Electron density profile,\n",
       " mpi66m322d_spectrogram,\n",
       " q profile efitrt1]"
      ]
     },
     "execution_count": 6,
     "metadata": {},
     "output_type": "execute_result"
    }
   ],
   "source": [
    "conf[\"paths\"][\"all_signals\"]"
   ]
  },
  {
   "cell_type": "code",
   "execution_count": 7,
   "id": "529bdb11",
   "metadata": {},
   "outputs": [
    {
     "data": {
      "text/plain": [
       "[q95 safety factor,\n",
       " filterscope fs07,\n",
       " neped,\n",
       " peped,\n",
       " newid,\n",
       " teped,\n",
       " tewid,\n",
       " plasma current,\n",
       " Locked mode amplitude,\n",
       " Normalized Beta,\n",
       " stored energy,\n",
       " Plasma density,\n",
       " Radiated Power Core,\n",
       " Radiated Power Edge,\n",
       " Input Power (beam for d3d),\n",
       " Input Beam Torque,\n",
       " n1 finite frequency signals,\n",
       " q profile efitrt1,\n",
       " Electron temperature profile,\n",
       " Electron density profile,\n",
       " mpi66m322d_spectrogram]"
      ]
     },
     "execution_count": 7,
     "metadata": {},
     "output_type": "execute_result"
    }
   ],
   "source": [
    "conf[\"paths\"][\"use_signals\"]"
   ]
  },
  {
   "cell_type": "code",
   "execution_count": 8,
   "id": "e1a39b7f",
   "metadata": {},
   "outputs": [
    {
     "data": {
      "text/plain": [
       "1"
      ]
     },
     "execution_count": 8,
     "metadata": {},
     "output_type": "execute_result"
    }
   ],
   "source": [
    "conf[\"training\"][\"predict_time\"]"
   ]
  },
  {
   "cell_type": "code",
   "execution_count": null,
   "id": "3feb730a",
   "metadata": {},
   "outputs": [],
   "source": []
  },
  {
   "cell_type": "code",
   "execution_count": 9,
   "id": "6b3717c5",
   "metadata": {},
   "outputs": [
    {
     "name": "stdout",
     "output_type": "stream",
     "text": [
      "******************* Shot - signals= [q95 safety factor, filterscope fs07, neped, peped, newid, teped, tewid, plasma current, Locked mode amplitude, Normalized Beta, stored energy, Plasma density, Radiated Power Core, Radiated Power Edge, Input Power (beam for d3d), Input Beam Torque, n1 finite frequency signals, q profile efitrt1, Electron temperature profile, Electron density profile, mpi66m322d_spectrogram]\n",
      "***************************signals_dict= None\n",
      "Warning, disruption time (disruptivity) not set!  Either set t_disrupt or is_disruptive\n"
     ]
    }
   ],
   "source": [
    "df = np.load(join(conf[\"paths\"][\"processed_prepath\"], \"174829.npz\"))\n",
    "shot_174829 = shots.Shot(number=174829, machine=d3d, is_disruptive=False, signals=conf[\"paths\"][\"use_signals\"], ttd=df[\"ttd\"])"
   ]
  },
  {
   "cell_type": "code",
   "execution_count": 10,
   "id": "4c390b8e",
   "metadata": {
    "scrolled": false
   },
   "outputs": [
    {
     "name": "stdout",
     "output_type": "stream",
     "text": [
      "recomputing 174829/tigress/rkube/../../../tigress/FRNN/signal_data_ipsip//d3d/EFITRT1/RESULTS.AEQDSK.Q95/174829.txt\n",
      "Signal q95 safety factor , shot 174829 was never downloaded\n",
      "/tigress/rkube/../../../tigress/FRNN/signal_data_new_nov2019//d3d/EFITRT1/RESULTS.AEQDSK.Q95/174829.txt\n",
      "/tigress/rkube/../../../tigress/FRNN/signal_data_ipsip//d3d//fs07/174829.txt\n",
      "Signal filterscope fs07 , shot 174829 was never downloaded\n",
      "/tigress/rkube/../../../tigress/FRNN/signal_data_new_nov2019//d3d//fs07/174829.txt\n",
      "Signal filterscope fs07 , shot 174829 was never downloaded\n",
      "/tigress/rkube/../../../tigress/FRNN/signal_data_new_2020//d3d//fs07/174829.txt\n",
      "/tigress/rkube/../../../tigress/FRNN/signal_data_ipsip//d3d//prmtan_neped/174829.txt\n",
      "Signal neped , shot 174829 was never downloaded\n",
      "/tigress/rkube/../../../tigress/FRNN/signal_data_new_nov2019//d3d//prmtan_neped/174829.txt\n",
      "Signal neped , shot 174829 was never downloaded\n",
      "/tigress/rkube/../../../tigress/FRNN/signal_data_new_2020//d3d//prmtan_neped/174829.txt\n",
      "/tigress/rkube/../../../tigress/FRNN/signal_data_ipsip//d3d//prmtan_peped/174829.txt\n",
      "Signal peped , shot 174829 was never downloaded\n",
      "/tigress/rkube/../../../tigress/FRNN/signal_data_new_nov2019//d3d//prmtan_peped/174829.txt\n",
      "Signal peped , shot 174829 was never downloaded\n",
      "/tigress/rkube/../../../tigress/FRNN/signal_data_new_2020//d3d//prmtan_peped/174829.txt\n",
      "/tigress/rkube/../../../tigress/FRNN/signal_data_ipsip//d3d//prmtan_newid/174829.txt\n",
      "Signal newid , shot 174829 was never downloaded\n",
      "/tigress/rkube/../../../tigress/FRNN/signal_data_new_nov2019//d3d//prmtan_newid/174829.txt\n",
      "Signal newid , shot 174829 was never downloaded\n",
      "/tigress/rkube/../../../tigress/FRNN/signal_data_new_2020//d3d//prmtan_newid/174829.txt\n",
      "/tigress/rkube/../../../tigress/FRNN/signal_data_ipsip//d3d//prmtan_teped/174829.txt\n",
      "Signal teped , shot 174829 was never downloaded\n",
      "/tigress/rkube/../../../tigress/FRNN/signal_data_new_nov2019//d3d//prmtan_teped/174829.txt\n",
      "Signal teped , shot 174829 was never downloaded\n",
      "/tigress/rkube/../../../tigress/FRNN/signal_data_new_2020//d3d//prmtan_teped/174829.txt\n",
      "/tigress/rkube/../../../tigress/FRNN/signal_data_ipsip//d3d//prmtan_tewid/174829.txt\n",
      "Signal tewid , shot 174829 was never downloaded\n",
      "/tigress/rkube/../../../tigress/FRNN/signal_data_new_nov2019//d3d//prmtan_tewid/174829.txt\n",
      "Signal tewid , shot 174829 was never downloaded\n",
      "/tigress/rkube/../../../tigress/FRNN/signal_data_new_2020//d3d//prmtan_tewid/174829.txt\n",
      "/tigress/rkube/../../../tigress/FRNN/signal_data_ipsip//d3d//ipspr15V/174829.txt\n",
      "Signal plasma current , shot 174829 was never downloaded\n",
      "/tigress/rkube/../../../tigress/FRNN/signal_data_new_nov2019//d3d//ipspr15V/174829.txt\n",
      "/tigress/rkube/../../../tigress/FRNN/signal_data_ipsip//d3d//dusbradial/174829.txt\n",
      "Signal Locked mode amplitude , shot 174829 was never downloaded\n",
      "/tigress/rkube/../../../tigress/FRNN/signal_data_new_nov2019//d3d//dusbradial/174829.txt\n",
      "/tigress/rkube/../../../tigress/FRNN/signal_data_ipsip//d3d//efsbetan/174829.txt\n",
      "Signal Normalized Beta , shot 174829 was never downloaded\n",
      "/tigress/rkube/../../../tigress/FRNN/signal_data_new_nov2019//d3d//efsbetan/174829.txt\n",
      "/tigress/rkube/../../../tigress/FRNN/signal_data_ipsip//d3d//efswmhd/174829.txt\n",
      "Signal stored energy , shot 174829 was never downloaded\n",
      "/tigress/rkube/../../../tigress/FRNN/signal_data_new_nov2019//d3d//efswmhd/174829.txt\n",
      "/tigress/rkube/../../../tigress/FRNN/signal_data_ipsip//d3d//dssdenest/174829.txt\n",
      "Signal Plasma density , shot 174829 was never downloaded\n",
      "/tigress/rkube/../../../tigress/FRNN/signal_data_new_nov2019//d3d//dssdenest/174829.txt\n",
      "/tigress/rkube/../../../tigress/FRNN/signal_data_ipsip//d3d//\\bol_l15_p/174829.txt\n",
      "Signal Radiated Power Core , shot 174829 was never downloaded\n",
      "/tigress/rkube/../../../tigress/FRNN/signal_data_new_nov2019//d3d//\\bol_l15_p/174829.txt\n",
      "/tigress/rkube/../../../tigress/FRNN/signal_data_ipsip//d3d//\\bol_l03_p/174829.txt\n",
      "Signal Radiated Power Edge , shot 174829 was never downloaded\n",
      "/tigress/rkube/../../../tigress/FRNN/signal_data_new_nov2019//d3d//\\bol_l03_p/174829.txt\n",
      "/tigress/rkube/../../../tigress/FRNN/signal_data_ipsip//d3d//bmspinj/174829.txt\n",
      "Signal Input Power (beam for d3d) , shot 174829 was never downloaded\n",
      "/tigress/rkube/../../../tigress/FRNN/signal_data_new_nov2019//d3d//bmspinj/174829.txt\n",
      "/tigress/rkube/../../../tigress/FRNN/signal_data_ipsip//d3d//bmstinj/174829.txt\n",
      "Signal Input Beam Torque , shot 174829 was never downloaded\n",
      "/tigress/rkube/../../../tigress/FRNN/signal_data_new_nov2019//d3d//bmstinj/174829.txt\n",
      "/tigress/rkube/../../../tigress/FRNN/signal_data_ipsip//d3d/mhd/mirnov.n1rms/174829.txt\n",
      "Signal n1 finite frequency signals , shot 174829 was never downloaded\n",
      "/tigress/rkube/../../../tigress/FRNN/signal_data_new_nov2019//d3d/mhd/mirnov.n1rms/174829.txt\n",
      "/tigress/rkube/../../../tigress/FRNN/signal_data_ipsip//d3d/EFITRT1/RESULTS.GEQDSK.QPSI/174829.txt\n",
      "Signal q profile efitrt1 , shot 174829 was never downloaded\n",
      "/tigress/rkube/../../../tigress/FRNN/signal_data_new_nov2019//d3d/EFITRT1/RESULTS.GEQDSK.QPSI/174829.txt\n",
      "Signal q profile efitrt1 , shot 174829 was never downloaded\n",
      "/tigress/rkube/../../../tigress/FRNN/signal_data_new_2020//d3d/EFITRT1/RESULTS.GEQDSK.QPSI/174829.txt\n",
      "Signal q profile efitrt1 , shot 174829 was never downloaded\n",
      "/tigress/rkube/../../../tigress/FRNN/signal_data_new_2021//d3d/EFITRT1/RESULTS.GEQDSK.QPSI/174829.txt\n",
      "Signal q profile efitrt1 , shot 174829 was never downloaded\n",
      "/tigress/rkube/../../../tigress/FRNN/signal_data_new_REAL_TIME//d3d/EFITRT1/RESULTS.GEQDSK.QPSI/174829.txt\n",
      "Signal q profile efitrt1 , shot 174829 was never downloaded\n",
      "/tigress/rkube/../../../tigress/FRNN/signal_data//d3d/EFITRT1/RESULTS.GEQDSK.QPSI/174829.txt\n",
      "Signal q profile efitrt1 , shot 174829 was never downloaded\n",
      "/tigress/rkube/../../../tigress/FRNN/signal_data_efit//d3d/EFITRT1/RESULTS.GEQDSK.QPSI/174829.txt\n",
      "/tigress/rkube/../../../tigress/FRNN/signal_data_ipsip//d3d/ZIPFIT01/PROFILES.ETEMPFIT/174829.txt\n",
      "Signal Electron temperature profile , shot 174829 was never downloaded\n",
      "/tigress/rkube/../../../tigress/FRNN/signal_data_new_nov2019//d3d/ZIPFIT01/PROFILES.ETEMPFIT/174829.txt\n",
      "/tigress/rkube/../../../tigress/FRNN/signal_data_ipsip//d3d/ZIPFIT01/PROFILES.EDENSFIT/174829.txt\n",
      "Signal Electron density profile , shot 174829 was never downloaded\n",
      "/tigress/rkube/../../../tigress/FRNN/signal_data_new_nov2019//d3d/ZIPFIT01/PROFILES.EDENSFIT/174829.txt\n",
      "/tigress/rkube/../../../tigress/FRNN/signal_data_ipsip//d3d/mpi66m322d_spec/174829.txt\n",
      "Signal mpi66m322d_spectrogram , shot 174829 was never downloaded\n",
      "/tigress/rkube/../../../tigress/FRNN/signal_data_new_nov2019//d3d/mpi66m322d_spec/174829.txt\n",
      "Signal mpi66m322d_spectrogram , shot 174829 was never downloaded\n",
      "/tigress/rkube/../../../tigress/FRNN/signal_data_new_2020//d3d/mpi66m322d_spec/174829.txt\n",
      "Signal mpi66m322d_spectrogram , shot 174829 was never downloaded\n",
      "/tigress/rkube/../../../tigress/FRNN/signal_data_new_2021//d3d/mpi66m322d_spec/174829.txt\n",
      "shot NUMBER 174829 valid== True ......................\n",
      "resampling.. 174829\n",
      "q95 safety factor\n",
      "0.969384 5.03038\n",
      "filterscope fs07\n",
      "0.969384 5.03038\n",
      "neped\n",
      "0.969384 5.03038\n",
      "peped\n",
      "0.969384 5.03038\n",
      "newid\n",
      "0.969384 5.03038\n",
      "teped\n",
      "0.969384 5.03038\n",
      "tewid\n",
      "0.969384 5.03038\n",
      "plasma current\n",
      "0.969384 5.03038\n",
      "Locked mode amplitude\n",
      "0.969384 5.03038\n",
      "Normalized Beta\n",
      "0.969384 5.03038\n",
      "stored energy\n",
      "0.969384 5.03038\n",
      "Plasma density\n",
      "0.969384 5.03038\n",
      "Radiated Power Core\n",
      "0.969384 5.03038\n",
      "Radiated Power Edge\n",
      "0.969384 5.03038\n",
      "Input Power (beam for d3d)\n",
      "0.969384 5.03038\n",
      "Input Beam Torque\n",
      "0.969384 5.03038\n",
      "n1 finite frequency signals\n",
      "0.969384 5.03038\n",
      "q profile efitrt1\n",
      "0.969384 5.03038\n",
      "Electron temperature profile\n",
      "0.969384 5.03038\n",
      "Electron density profile\n",
      "0.969384 5.03038\n",
      "mpi66m322d_spectrogram\n",
      "0.969384 5.03038\n"
     ]
    }
   ],
   "source": [
    "shot_174829.preprocess(conf)"
   ]
  },
  {
   "cell_type": "code",
   "execution_count": 11,
   "id": "1d073f28",
   "metadata": {},
   "outputs": [],
   "source": [
    "my_loader = loader.Loader(conf)"
   ]
  },
  {
   "cell_type": "code",
   "execution_count": 12,
   "id": "1e409e32",
   "metadata": {},
   "outputs": [
    {
     "data": {
      "text/plain": [
       "<generator object Loader.training_batch_generator at 0x20012266dba0>"
      ]
     },
     "execution_count": 12,
     "metadata": {},
     "output_type": "execute_result"
    }
   ],
   "source": [
    "my_loader.training_batch_generator([174829])"
   ]
  },
  {
   "cell_type": "code",
   "execution_count": 13,
   "id": "2909d45c",
   "metadata": {},
   "outputs": [
    {
     "name": "stdout",
     "output_type": "stream",
     "text": [
      "number: 174829\n",
      "machine: d3d\n",
      "signals: [q95 safety factor, filterscope fs07, neped, peped, newid, teped, tewid, plasma current, Locked mode amplitude, Normalized Beta, stored energy, Plasma density, Radiated Power Core, Radiated Power Edge, Input Power (beam for d3d), Input Beam Torque, n1 finite frequency signals, q profile efitrt1, Electron temperature profile, Electron density profile, mpi66m322d_spectrogram]\n",
      "signals_dict: {q95 safety factor: array([[5.00152],\n",
      "       [5.00152],\n",
      "       [5.00152],\n",
      "       ...,\n",
      "       [5.06022],\n",
      "       [5.06022],\n",
      "       [5.06022]], dtype=float32), filterscope fs07: array([[4.7410356e+15],\n",
      "       [4.9019213e+15],\n",
      "       [4.5890212e+15],\n",
      "       ...,\n",
      "       [2.4841825e+15],\n",
      "       [2.1430121e+15],\n",
      "       [2.3310589e+15]], dtype=float32), neped: array([[7.91991e+18],\n",
      "       [7.91991e+18],\n",
      "       [7.91991e+18],\n",
      "       ...,\n",
      "       [3.90554e+19],\n",
      "       [3.90554e+19],\n",
      "       [3.90554e+19]], dtype=float32), peped: array([[0.232537],\n",
      "       [0.232537],\n",
      "       [0.232537],\n",
      "       ...,\n",
      "       [3.268   ],\n",
      "       [3.268   ],\n",
      "       [3.268   ]], dtype=float32), newid: array([[0.0939998],\n",
      "       [0.0939998],\n",
      "       [0.0939998],\n",
      "       ...,\n",
      "       [0.0287223],\n",
      "       [0.0287223],\n",
      "       [0.0287223]], dtype=float32), teped: array([[ 56.5449],\n",
      "       [ 56.5449],\n",
      "       [ 56.5449],\n",
      "       ...,\n",
      "       [530.872 ],\n",
      "       [530.872 ],\n",
      "       [530.872 ]], dtype=float32), tewid: array([[0.035439 ],\n",
      "       [0.035439 ],\n",
      "       [0.035439 ],\n",
      "       ...,\n",
      "       [0.0346452],\n",
      "       [0.0346452],\n",
      "       [0.0346452]], dtype=float32), plasma current: array([[1.96522],\n",
      "       [1.96684],\n",
      "       [1.97482],\n",
      "       ...,\n",
      "       [1.93955],\n",
      "       [1.93933],\n",
      "       [1.94675]], dtype=float32), Locked mode amplitude: array([[1.90043],\n",
      "       [1.9291 ],\n",
      "       [1.93534],\n",
      "       ...,\n",
      "       [1.02293],\n",
      "       [1.0268 ],\n",
      "       [1.0481 ]], dtype=float32), Normalized Beta: array([[0.468897],\n",
      "       [0.468897],\n",
      "       [0.468069],\n",
      "       ...,\n",
      "       [1.17938 ],\n",
      "       [1.19925 ],\n",
      "       [1.18409 ]], dtype=float32), stored energy: array([[170003.],\n",
      "       [170003.],\n",
      "       [169628.],\n",
      "       ...,\n",
      "       [408207.],\n",
      "       [414618.],\n",
      "       [409080.]], dtype=float32), Plasma density: array([[1.49733],\n",
      "       [1.40106],\n",
      "       [1.40581],\n",
      "       ...,\n",
      "       [4.8965 ],\n",
      "       [4.87541],\n",
      "       [4.83847]], dtype=float32), Radiated Power Core: array([[0.00069049],\n",
      "       [0.00069049],\n",
      "       [0.00069049],\n",
      "       ...,\n",
      "       [0.00063247],\n",
      "       [0.00063247],\n",
      "       [0.00063204]], dtype=float32), Radiated Power Edge: array([[0.00025678],\n",
      "       [0.00025678],\n",
      "       [0.00025678],\n",
      "       ...,\n",
      "       [0.000283  ],\n",
      "       [0.000283  ],\n",
      "       [0.00027613]], dtype=float32), Input Power (beam for d3d): array([[2903.27],\n",
      "       [1193.78],\n",
      "       [1115.43],\n",
      "       ...,\n",
      "       [   0.  ],\n",
      "       [   0.  ],\n",
      "       [   0.  ]], dtype=float32), Input Beam Torque: array([[3.06348],\n",
      "       [1.23751],\n",
      "       [1.15539],\n",
      "       ...,\n",
      "       [0.     ],\n",
      "       [0.     ],\n",
      "       [0.     ]], dtype=float32), n1 finite frequency signals: array([[0.189926 ],\n",
      "       [0.145359 ],\n",
      "       [0.0629561],\n",
      "       ...,\n",
      "       [0.0938829],\n",
      "       [0.0354702],\n",
      "       [0.0235154]], dtype=float32), q profile efitrt1: array([[1.83798  , 1.846038 , 1.8540548, ..., 5.9661827, 7.74714  ,\n",
      "        9.55196  ],\n",
      "       [1.83798  , 1.846038 , 1.8540548, ..., 5.9661827, 7.74714  ,\n",
      "        9.55196  ],\n",
      "       [1.83798  , 1.846038 , 1.8540548, ..., 5.9661827, 7.74714  ,\n",
      "        9.55196  ],\n",
      "       ...,\n",
      "       [1.15183  , 1.1615409, 1.1712279, ..., 5.8968077, 7.1298184,\n",
      "        8.37864  ],\n",
      "       [1.15183  , 1.1615409, 1.1712279, ..., 5.8968077, 7.1298184,\n",
      "        8.37864  ],\n",
      "       [1.15183  , 1.1615409, 1.1712279, ..., 5.8968077, 7.1298184,\n",
      "        8.37864  ]], dtype=float32), Electron temperature profile: array([[2.25475   , 2.254183  , 2.252794  , ..., 0.05437045, 0.04341647,\n",
      "        0.0335511 ],\n",
      "       [2.25475   , 2.254183  , 2.252794  , ..., 0.05437045, 0.04341647,\n",
      "        0.0335511 ],\n",
      "       [2.25475   , 2.254183  , 2.252794  , ..., 0.05437045, 0.04341647,\n",
      "        0.0335511 ],\n",
      "       ...,\n",
      "       [2.82082   , 2.8202925 , 2.8189945 , ..., 0.1284163 , 0.09446604,\n",
      "        0.0679142 ],\n",
      "       [2.82082   , 2.8202925 , 2.8189945 , ..., 0.1284163 , 0.09446604,\n",
      "        0.0679142 ],\n",
      "       [2.82082   , 2.8202925 , 2.8189945 , ..., 0.1284163 , 0.09446604,\n",
      "        0.0679142 ]], dtype=float32), Electron density profile: array([[1.50116   , 1.5010655 , 1.5008446 , ..., 0.52364963, 0.47964603,\n",
      "        0.42482   ],\n",
      "       [1.50116   , 1.5010655 , 1.5008446 , ..., 0.52364963, 0.47964603,\n",
      "        0.42482   ],\n",
      "       [1.50116   , 1.5010655 , 1.5008446 , ..., 0.52364963, 0.47964603,\n",
      "        0.42482   ],\n",
      "       ...,\n",
      "       [5.25373   , 5.253628  , 5.253359  , ..., 0.8837723 , 0.7786927 ,\n",
      "        0.720873  ],\n",
      "       [5.25373   , 5.253628  , 5.253359  , ..., 0.8837723 , 0.7786927 ,\n",
      "        0.720873  ],\n",
      "       [5.25373   , 5.253628  , 5.253359  , ..., 0.8837723 , 0.7786927 ,\n",
      "        0.720873  ]], dtype=float32), mpi66m322d_spectrogram: array([[0.909654  , 0.20955668, 0.3118412 , ..., 0.43350127, 0.353045  ,\n",
      "        0.577506  ],\n",
      "       [0.909654  , 0.20955668, 0.3118412 , ..., 0.43350127, 0.353045  ,\n",
      "        0.577506  ],\n",
      "       [1.02167   , 0.19538534, 0.26435038, ..., 0.49885368, 0.32892957,\n",
      "        0.178583  ],\n",
      "       ...,\n",
      "       [1.11157   , 0.19549936, 0.19778223, ..., 0.48951006, 0.5100919 ,\n",
      "        0.585118  ],\n",
      "       [1.09654   , 0.20560804, 0.11669042, ..., 0.3397117 , 0.3379646 ,\n",
      "        0.482547  ],\n",
      "       [1.08097   , 0.14927071, 0.1290599 , ..., 0.32739937, 0.38008422,\n",
      "        0.517407  ]], dtype=float32)}\n",
      "ttd: [3. 3. 3. ... 3. 3. 3.]\n",
      "valid: True\n",
      "is_disruptive: False\n",
      "t_disrupt: None\n",
      "\n"
     ]
    }
   ],
   "source": [
    "print(shot_174829)"
   ]
  },
  {
   "cell_type": "code",
   "execution_count": 14,
   "id": "64d87e14",
   "metadata": {},
   "outputs": [
    {
     "data": {
      "text/plain": [
       "list"
      ]
     },
     "execution_count": 14,
     "metadata": {},
     "output_type": "execute_result"
    }
   ],
   "source": [
    "type(shot_174829.signals)"
   ]
  },
  {
   "cell_type": "code",
   "execution_count": 15,
   "id": "01b414c2",
   "metadata": {},
   "outputs": [
    {
     "data": {
      "text/plain": [
       "[q95 safety factor,\n",
       " filterscope fs07,\n",
       " neped,\n",
       " peped,\n",
       " newid,\n",
       " teped,\n",
       " tewid,\n",
       " plasma current,\n",
       " Locked mode amplitude,\n",
       " Normalized Beta,\n",
       " stored energy,\n",
       " Plasma density,\n",
       " Radiated Power Core,\n",
       " Radiated Power Edge,\n",
       " Input Power (beam for d3d),\n",
       " Input Beam Torque,\n",
       " n1 finite frequency signals,\n",
       " q profile efitrt1,\n",
       " Electron temperature profile,\n",
       " Electron density profile,\n",
       " mpi66m322d_spectrogram]"
      ]
     },
     "execution_count": 15,
     "metadata": {},
     "output_type": "execute_result"
    }
   ],
   "source": [
    "conf[\"paths\"][\"use_signals\"]"
   ]
  },
  {
   "cell_type": "code",
   "execution_count": 16,
   "id": "ccff8dde",
   "metadata": {},
   "outputs": [
    {
     "name": "stdout",
     "output_type": "stream",
     "text": [
      "1\n"
     ]
    }
   ],
   "source": [
    "predict_time = conf['training']['predict_time']\n",
    "print(predict_time)"
   ]
  },
  {
   "cell_type": "code",
   "execution_count": 17,
   "id": "dab39ff6",
   "metadata": {},
   "outputs": [
    {
     "name": "stdout",
     "output_type": "stream",
     "text": [
      "ttelm_target\n"
     ]
    }
   ],
   "source": [
    "predict_mode = conf['training']['predict_mode']\n",
    "print(predict_mode)"
   ]
  },
  {
   "cell_type": "code",
   "execution_count": 18,
   "id": "00341363",
   "metadata": {},
   "outputs": [
    {
     "name": "stdout",
     "output_type": "stream",
     "text": [
      "['filterscope fs07']\n"
     ]
    }
   ],
   "source": [
    "target_description = conf['training']['target_description']\n",
    "print(target_description)"
   ]
  },
  {
   "cell_type": "code",
   "execution_count": 19,
   "id": "2f4bd42d",
   "metadata": {},
   "outputs": [
    {
     "name": "stdout",
     "output_type": "stream",
     "text": [
      "TargetDescription: ['filterscope fs07']\n",
      "4061 2\n",
      "174829\n",
      "this is res after sig in self.signals 1 (4061,)\n",
      "this is tar (4061,)\n"
     ]
    }
   ],
   "source": [
    "res, sig_array = shot_174829.get_data_arrays_lmtarget(conf[\"paths\"][\"use_signals\"], \n",
    "                                                      conf['data']['floatx'],\n",
    "                                                      predict_time=1,\n",
    "                                                      predict_mode=predict_mode,\n",
    "                                                      target_description=target_description)"
   ]
  },
  {
   "cell_type": "code",
   "execution_count": 21,
   "id": "1cfce8eb",
   "metadata": {},
   "outputs": [
    {
     "name": "stdout",
     "output_type": "stream",
     "text": [
      "(4061, 1) (4061, 785)\n"
     ]
    }
   ],
   "source": [
    "print(res.shape, sig_array.shape)"
   ]
  },
  {
   "cell_type": "code",
   "execution_count": 22,
   "id": "345ce35d",
   "metadata": {},
   "outputs": [
    {
     "data": {
      "text/plain": [
       "[<matplotlib.lines.Line2D at 0x200126832fa0>]"
      ]
     },
     "execution_count": 22,
     "metadata": {},
     "output_type": "execute_result"
    },
    {
     "data": {
      "image/png": "[encoded data removed]",
      "text/plain": [
       "<Figure size 432x288 with 1 Axes>"
      ]
     },
     "metadata": {
      "needs_background": "light"
     },
     "output_type": "display_data"
    }
   ],
   "source": [
    "plt.plot(res)"
   ]
  },
  {
   "cell_type": "code",
   "execution_count": 23,
   "id": "4b5b60bb",
   "metadata": {
    "scrolled": false
   },
   "outputs": [
    {
     "data": {
      "text/plain": [
       "(4061, 785)"
      ]
     },
     "execution_count": 23,
     "metadata": {},
     "output_type": "execute_result"
    }
   ],
   "source": [
    "sig_array.shape"
   ]
  },
  {
   "cell_type": "code",
   "execution_count": 24,
   "id": "82b01872",
   "metadata": {},
   "outputs": [],
   "source": [
    "for k, v in zip(shot_174829.signals_dict.keys(), shot_174829.signals_dict.values()):\n",
    "    if k.description == \"filterscope fs07\":\n",
    "        fs_signal = shot_174829.signals_dict[k]"
   ]
  },
  {
   "cell_type": "code",
   "execution_count": 214,
   "id": "83964762",
   "metadata": {},
   "outputs": [],
   "source": [
    "fs_rs = (fs_signal - fs_signal.min()) / (fs_signal.max() - fs_signal.min())\n",
    "tb_rs = np.arange(fs_rs.size) * 1e-3"
   ]
  },
  {
   "cell_type": "code",
   "execution_count": 217,
   "id": "3721a3c6",
   "metadata": {},
   "outputs": [
    {
     "data": {
      "text/plain": [
       "<matplotlib.legend.Legend at 0x200140a9a820>"
      ]
     },
     "execution_count": 217,
     "metadata": {},
     "output_type": "execute_result"
    },
    {
     "data": {
      "image/png": "[encoded data removed]",
      "text/plain": [
       "<Figure size 864x432 with 1 Axes>"
      ]
     },
     "metadata": {
      "needs_background": "light"
     },
     "output_type": "display_data"
    }
   ],
   "source": [
    "fig = plt.figure(figsize=(12, 6))\n",
    "ax = fig.add_axes([0.2, 0.2, 0.75, 0.75])\n",
    "ax.plot(tb_rs, fs_rs, lw=3, label=\"fs07\")\n",
    "ax.plot(tb_rs, fs_rs.mean() * 3 * np.ones(tb_rs.size), \"k-\")\n",
    "ax.plot(tb_rs, res * 0.1, alpha=0.75, label=\"ttelm\")\n",
    "ax.set_title(\"D3D-174829\")\n",
    "ax.set_xlabel(\"sample index\")\n",
    "ax.set_ylabel(\"y / a.u.\")\n",
    "ax.set_ylim((-0.05, 1.25))\n",
    "ax.legend(loc=\"upper left\")\n",
    "#ax.set_xlim((900, 1100))\n",
    "#fig.savefig(\"d3d-174829_fs07+ttelm.pdf\")"
   ]
  },
  {
   "cell_type": "code",
   "execution_count": 33,
   "id": "22ba76c4",
   "metadata": {},
   "outputs": [
    {
     "data": {
      "text/plain": [
       "[<matplotlib.lines.Line2D at 0x200126830610>]"
      ]
     },
     "execution_count": 33,
     "metadata": {},
     "output_type": "execute_result"
    },
    {
     "data": {
      "image/png": "[encoded data removed]",
      "text/plain": [
       "<Figure size 432x288 with 1 Axes>"
      ]
     },
     "metadata": {
      "needs_background": "light"
     },
     "output_type": "display_data"
    }
   ],
   "source": []
  },
  {
   "cell_type": "code",
   "execution_count": null,
   "id": "6da446e0",
   "metadata": {},
   "outputs": [],
   "source": []
  },
  {
   "cell_type": "code",
   "execution_count": null,
   "id": "d09612f9",
   "metadata": {},
   "outputs": [],
   "source": []
  },
  {
   "cell_type": "code",
   "execution_count": null,
   "id": "57909b9e",
   "metadata": {},
   "outputs": [],
   "source": []
  },
  {
   "cell_type": "code",
   "execution_count": null,
   "id": "8e7f69e3",
   "metadata": {},
   "outputs": [],
   "source": []
  },
  {
   "cell_type": "code",
   "execution_count": null,
   "id": "247f4f34",
   "metadata": {},
   "outputs": [],
   "source": []
  },
  {
   "cell_type": "code",
   "execution_count": 225,
   "id": "61cc6ba6",
   "metadata": {},
   "outputs": [
    {
     "data": {
      "text/plain": [
       "(array([3., 3., 3., ..., 3., 3., 3.], dtype=float32),\n",
       " array([[5.0015202e+00, 4.7410356e+15, 7.9199098e+18, ..., 4.3350127e-01,\n",
       "         3.5304499e-01, 5.7750601e-01],\n",
       "        [5.0015202e+00, 4.9019213e+15, 7.9199098e+18, ..., 4.3350127e-01,\n",
       "         3.5304499e-01, 5.7750601e-01],\n",
       "        [5.0015202e+00, 4.5890212e+15, 7.9199098e+18, ..., 4.9885368e-01,\n",
       "         3.2892957e-01, 1.7858300e-01],\n",
       "        ...,\n",
       "        [5.0602198e+00, 2.4841825e+15, 3.9055401e+19, ..., 4.8951006e-01,\n",
       "         5.1009190e-01, 5.8511800e-01],\n",
       "        [5.0602198e+00, 2.1430121e+15, 3.9055401e+19, ..., 3.3971170e-01,\n",
       "         3.3796459e-01, 4.8254699e-01],\n",
       "        [5.0602198e+00, 2.3310589e+15, 3.9055401e+19, ..., 3.2739937e-01,\n",
       "         3.8008422e-01, 5.1740700e-01]], dtype=float32))"
      ]
     },
     "execution_count": 225,
     "metadata": {},
     "output_type": "execute_result"
    }
   ],
   "source": [
    "shot_174829.get_data_arrays(use_signals=shot_174829.get_signals())"
   ]
  },
  {
   "cell_type": "code",
   "execution_count": 226,
   "id": "1415f840",
   "metadata": {},
   "outputs": [
    {
     "name": "stdout",
     "output_type": "stream",
     "text": [
      "TargetDescription: Locked mode amplitude\n",
      "4061 1\n",
      "174829\n",
      "this is res after sig in self.signals 1 (4061,)\n"
     ]
    },
    {
     "data": {
      "text/plain": [
       "(array([[1.9291 ],\n",
       "        [1.93534],\n",
       "        [1.88383],\n",
       "        ...,\n",
       "        [1.0268 ],\n",
       "        [1.0481 ],\n",
       "        [1.0481 ]], dtype=float32),\n",
       " array([[5.0015202e+00, 4.7410356e+15, 7.9199098e+18, ..., 4.3350127e-01,\n",
       "         3.5304499e-01, 5.7750601e-01],\n",
       "        [5.0015202e+00, 4.9019213e+15, 7.9199098e+18, ..., 4.3350127e-01,\n",
       "         3.5304499e-01, 5.7750601e-01],\n",
       "        [5.0015202e+00, 4.5890212e+15, 7.9199098e+18, ..., 4.9885368e-01,\n",
       "         3.2892957e-01, 1.7858300e-01],\n",
       "        ...,\n",
       "        [5.0602198e+00, 2.4841825e+15, 3.9055401e+19, ..., 4.8951006e-01,\n",
       "         5.1009190e-01, 5.8511800e-01],\n",
       "        [5.0602198e+00, 2.1430121e+15, 3.9055401e+19, ..., 3.3971170e-01,\n",
       "         3.3796459e-01, 4.8254699e-01],\n",
       "        [5.0602198e+00, 2.3310589e+15, 3.9055401e+19, ..., 3.2739937e-01,\n",
       "         3.8008422e-01, 5.1740700e-01]], dtype=float32))"
      ]
     },
     "execution_count": 226,
     "metadata": {},
     "output_type": "execute_result"
    }
   ],
   "source": [
    "shot_174829.get_data_arrays_lmtarget(use_signals=conf[\"paths\"][\"use_signals\"])"
   ]
  },
  {
   "cell_type": "code",
   "execution_count": 227,
   "id": "7d5aef12",
   "metadata": {},
   "outputs": [],
   "source": [
    "pp = preprocess.Preprocessor(conf)"
   ]
  },
  {
   "cell_type": "code",
   "execution_count": 228,
   "id": "40c4e566",
   "metadata": {},
   "outputs": [
    {
     "name": "stdout",
     "output_type": "stream",
     "text": [
      "\r\n",
      "174829 exists."
     ]
    },
    {
     "data": {
      "text/plain": [
       "<shots.Shot at 0x200121ab1730>"
      ]
     },
     "execution_count": 228,
     "metadata": {},
     "output_type": "execute_result"
    }
   ],
   "source": [
    "pp.preprocess_single_file(shot_174829)"
   ]
  },
  {
   "cell_type": "code",
   "execution_count": 229,
   "id": "57162da6",
   "metadata": {},
   "outputs": [],
   "source": [
    "shot_174829.signals_dict"
   ]
  },
  {
   "cell_type": "code",
   "execution_count": null,
   "id": "0bb0f200",
   "metadata": {},
   "outputs": [],
   "source": []
  },
  {
   "cell_type": "markdown",
   "id": "5d65a321",
   "metadata": {},
   "source": [
    "## Test custom ELM detection on synthetic data"
   ]
  },
  {
   "cell_type": "code",
   "execution_count": 251,
   "id": "e9b29ad0",
   "metadata": {},
   "outputs": [
    {
     "name": "stdout",
     "output_type": "stream",
     "text": [
      "4\n"
     ]
    }
   ],
   "source": [
    "tt = torch.tensor([4, 1, 2, 3])\n",
    "\n",
    "torch.flip(torch.argsort(tt), [0])\n",
    "\n",
    "print(tt.size(dim=0))"
   ]
  },
  {
   "cell_type": "code",
   "execution_count": 328,
   "id": "a013c8e8",
   "metadata": {},
   "outputs": [],
   "source": [
    "class target_TTELM():\n",
    "\n",
    "    def __init__(self, max_ttelm=10.0, dt=1.0, threshold=lambda x: x.mean() * 1.5,\n",
    "                 deadtime=5.0, peak_width=5):\n",
    "        \"\"\"\n",
    "            Args:\n",
    "                max_ttelm, float: Maximum time to ELM. in milliseconds.\n",
    "                dt, float: Sample spacing, in milliseconds\n",
    "                thresold, callable:\n",
    "                deadtime, float: Separation of peaks, in milliseconds\n",
    "                peak_width, int: Number of neighbouring elements a peak has to exceed\n",
    "        \n",
    "        \"\"\"\n",
    "        self.max_ttelm = max_ttelm\n",
    "        self.dt = dt\n",
    "        self.max_ttelm_ix = int(self.max_ttelm / self.dt)\n",
    "        self.threshold = threshold\n",
    "        self.deadtime = deadtime\n",
    "        self.deadtime_ix = int(math.ceil(deadtime / dt))\n",
    "        self.peak_width = int(peak_width)\n",
    "\n",
    "    \n",
    "    def __call__(self, tb, signal):\n",
    "        \"\"\"Returns time-to-ELM, calculated from signal.\n",
    "\n",
    "        Args:\n",
    "            tb: torch.tensor: Time-base for a signal that contains ELMs\n",
    "            signal: torch.tensor: Signal that contains ELMs\n",
    "\n",
    "        Output:\n",
    "            ttelm: torch.tensor: Time-base that counts down to time of next ELM\n",
    "        \"\"\"\n",
    "        assert(signal.size == signal.size)\n",
    "\n",
    "        # Detect indices where ELM appear.\n",
    "        elm_idx = self.peak_detection(signal)\n",
    "\n",
    "        # Sort indices\n",
    "        elm_idx, _ = elm_idx.sort()\n",
    "        torch.flip(elm_idx, dims=[0])\n",
    "        # Initialize ttelm arry with default value\n",
    "        ttelm = self.max_ttelm * torch.ones_like(tb)\n",
    "        \n",
    "        # Look-back used to fill up ttelm\n",
    "        lookback = torch.clip(torch.hstack([torch.tensor([5]), elm_idx[1:] - elm_idx[:-1]]), \n",
    "                              0, self.deadtime_ix)\n",
    "        \n",
    "        for lb, ix in zip(lookback, elm_idx):\n",
    "            print(lb, ix, ttelm[ix + 1 - lb + 1:ix+1])\n",
    "            # Insert linear count-down windows into ttelm target\n",
    "            ttelm[ix - lb + 1:ix + 1] = ttelm[ix - lb + 1] + (0.0 - ttelm[ix-lb]) / lb * torch.arange(1, lb + 1)\n",
    "            print(\"after: \", ttelm[ix + 1 - lb:ix+1])\n",
    "\n",
    "        return ttelm\n",
    "\n",
    "    def peak_detection(self, signal): # , deadtime=5, threshold=self.threshold, peak_width=5):\n",
    "        \"\"\"Detects ELMs in a time series.\n",
    "\n",
    "        ELMs are defined as peaks in a time seris that exceed a threshold.\n",
    "        The default threshold is 3 * mean(signal)\n",
    "\n",
    "\n",
    "        Starting from the largest burst event in the time series at hand, we identify a set of\n",
    "        disjunct sub records, placed symmetrically around the peak of burst events which exceed\n",
    "        a given amplitude threshold until no more burst events exceeding this threshold are\n",
    "        left uncovered.\n",
    "        Used in Kube et al. PPCF 58, 054001 (2016).\n",
    "        Input:\n",
    "        ========\n",
    "        signal.........ndarray,  float: Timeseries to scan for peaks\n",
    "        dead_time......integer:  Separation of peaks in sampling points\n",
    "        threshold......callable: Threshold a peak has to exceeed\n",
    "        peak_width.....integer:  Number of neighbouring elements a peak has to exceed\n",
    "        Output:\n",
    "        ========\n",
    "        peak_idx_list...ndarray, integer: Indices of peaks in signal\n",
    "        \"\"\"\n",
    "\n",
    "        # Sort time series by magnitude and flip so that index to largest element comes first\n",
    "        _, max_idx = torch.sort(signal)\n",
    "        max_idx = torch.flip(max_idx, [0])\n",
    "\n",
    "        # Remove peaks within dead_time to the array boundary\n",
    "        max_idx = max_idx[max_idx > self.deadtime_ix]\n",
    "        max_idx = max_idx[max_idx < signal.size(dim=0) - self.deadtime_ix]\n",
    "\n",
    "        max_values = np.zeros_like(signal[max_idx])\n",
    "        max_values[:] = np.squeeze(signal[max_idx])\n",
    "\n",
    "        # Number of peaks exceeding threshold\n",
    "        num_big_ones = torch.sum(signal > self.threshold(signal))\n",
    "        try:\n",
    "            max_values = max_values[:num_big_ones]\n",
    "            max_idx = max_idx[:num_big_ones]\n",
    "        except:\n",
    "            raise BadDataException(\"detect_peaks_1d: No peaks in the unmasked part of the array.\")\n",
    "\n",
    "        # Mark the indices we need to skip here\n",
    "        max_idx_copy = torch.zeros_like(max_idx)\n",
    "        max_idx_copy[:] = max_idx\n",
    "\n",
    "        # Eliminate values exceeding the threshold within dead_time of another\n",
    "        # for idx, mv in enumerate(max_values):\n",
    "        # print 'iterating over %d peaks' % ( np.size(max_idx))\n",
    "        for i, idx in enumerate(max_idx):\n",
    "            current_idx = max_idx_copy[i]\n",
    "            if max_idx_copy[i] == -1:\n",
    "                #    print 'idx %d is zeroed out' % (idx)\n",
    "                continue\n",
    "\n",
    "            # Check if this value is larger than the valueghbouring values of the\n",
    "            # signal. If it is not, continue with next iteration of for loop\n",
    "            if (\n",
    "                signal[current_idx]\n",
    "                < signal[current_idx - self.peak_width : current_idx + self.peak_width]\n",
    "            ).any():\n",
    "                max_idx_copy[i] = -1\n",
    "                continue\n",
    "\n",
    "            # Zero out all peaks closer than dead_time\n",
    "            close_idx = torch.abs(max_idx_copy - idx)\n",
    "            close_ones = torch.squeeze(torch.where(close_idx < self.deadtime_ix)[0])\n",
    "            max_idx_copy[close_ones] = -1\n",
    "            # Copy back current value\n",
    "            max_idx_copy[i] = max_idx[i]\n",
    "\n",
    "        # Remove all entries equal to -1\n",
    "        max_idx_copy = max_idx_copy[max_idx_copy != -1]\n",
    "        max_idx_copy = max_idx_copy[max_idx_copy < signal.size(dim=0)]\n",
    "\n",
    "        # Return an ndarray with all peaks of large amplitude indices\n",
    "        return max_idx_copy\n"
   ]
  },
  {
   "cell_type": "code",
   "execution_count": 329,
   "id": "929e3f3f",
   "metadata": {},
   "outputs": [],
   "source": [
    "# Create torch tensor data from all numpy arrays\n",
    "fs_rs_t = torch.tensor(fs_rs[:,0])"
   ]
  },
  {
   "cell_type": "code",
   "execution_count": 330,
   "id": "474c89fd",
   "metadata": {},
   "outputs": [
    {
     "name": "stdout",
     "output_type": "stream",
     "text": [
      "tensor(35) tensor(5) tensor([0.2000, 0.4000, 0.6000, 0.8000, 1.0000])\n",
      "tensor(50) tensor(5) tensor([0.2000, 0.4000, 0.6000, 0.8000, 1.0000])\n",
      "tensor(68) tensor(5) tensor([0.3000, 0.6000, 0.9000, 1.2000, 1.5000])\n",
      "tensor(74) tensor(5) tensor([0.2400, 0.4800, 0.7200, 0.9600, 1.2000])\n",
      "tensor(78) tensor(4) tensor([0.4250, 0.8500, 1.2750, 1.7000])\n",
      "unsorted: elm_idx = tensor([78, 68, 50, 35]) <class 'torch.Tensor'>\n",
      "elm_idx = tensor([35, 50, 68, 78]) <class 'torch.Tensor'>\n",
      "tensor([10., 10., 10., 10., 10., 10., 10., 10., 10., 10., 10., 10., 10., 10.,\n",
      "        10., 10., 10., 10., 10., 10., 10., 10., 10., 10., 10., 10., 10., 10.,\n",
      "        10., 10., 10., 10., 10., 10., 10., 10., 10., 10., 10., 10., 10., 10.,\n",
      "        10., 10., 10., 10., 10., 10., 10., 10., 10., 10., 10., 10., 10., 10.,\n",
      "        10., 10., 10., 10., 10., 10., 10., 10., 10., 10., 10., 10., 10., 10.,\n",
      "        10., 10., 10., 10., 10., 10., 10., 10., 10., 10., 10., 10., 10., 10.,\n",
      "        10., 10., 10., 10., 10., 10., 10., 10., 10., 10., 10., 10., 10., 10.,\n",
      "        10., 10.])\n",
      "tensor(5) tensor(35) tensor([10., 10., 10., 10.])\n",
      "after:  tensor([8., 6., 4., 2., 0.])\n",
      "tensor(5) tensor(50) tensor([10., 10., 10., 10.])\n",
      "after:  tensor([8., 6., 4., 2., 0.])\n",
      "tensor(5) tensor(68) tensor([10., 10., 10., 10.])\n",
      "after:  tensor([8., 6., 4., 2., 0.])\n",
      "tensor(5) tensor(78) tensor([10., 10., 10., 10.])\n",
      "after:  tensor([8., 6., 4., 2., 0.])\n"
     ]
    },
    {
     "data": {
      "text/plain": [
       "[<matplotlib.lines.Line2D at 0x2001a5b95130>]"
      ]
     },
     "execution_count": 330,
     "metadata": {},
     "output_type": "execute_result"
    },
    {
     "data": {
      "image/png": "[encoded data removed]",
      "text/plain": [
       "<Figure size 432x288 with 1 Axes>"
      ]
     },
     "metadata": {
      "needs_background": "light"
     },
     "output_type": "display_data"
    }
   ],
   "source": [
    "my_target_TTELM = target_TTELM()\n",
    "\n",
    "num_ele = 100\n",
    "dt = 1.0\n",
    "lookback = 5\n",
    "# Generate time base\n",
    "tb = torch.arange(num_ele) * dt\n",
    "\n",
    "# Generate synthetic signal\n",
    "sig_test = torch.zeros(num_ele)\n",
    "peak_idx = torch.tensor([35, 50, 68, 74, 78])       # Peak at 74 should be ignored\n",
    "peak_amp = torch.tensor([1.0, 1.0, 1.5, 1.2, 1.7])\n",
    "\n",
    "t0 = 1.0\n",
    "ttp_arr = t0 * torch.ones(num_ele)\n",
    "\n",
    "# Use lookback time samples to fill TTELM. IT's either 5 time samples\n",
    "# or the time to previous ELM\n",
    "lookback = torch.clip(torch.hstack([torch.tensor([5]), peak_idx[1:] - peak_idx[:-1]]), 0, 5)\n",
    "\n",
    "for lb, ix, amp in zip(lookback, peak_idx, peak_amp):\n",
    "    sig_test[ix - lb + 1:ix + 1] += (amp / lb) * torch.arange(1, lb + 1)\n",
    "    ttp_arr[ix - lb + 1:ix + 1] = ttp_arr[ix - lb] + (0.0 - ttp_arr[ix-lb]) / lb * torch.arange(1, lb + 1)\n",
    "\n",
    "    print(ix, lb, sig_test[ix + 1- lb:ix + 1])\n",
    "\n",
    "ttelm = my_target_TTELM(tb, sig_test)\n",
    "plt.plot(tb, sig_test)\n",
    "plt.plot(tb, ttp_arr)\n",
    "plt.plot(tb, ttelm)"
   ]
  },
  {
   "cell_type": "code",
   "execution_count": 324,
   "id": "15f90029",
   "metadata": {},
   "outputs": [
    {
     "name": "stdout",
     "output_type": "stream",
     "text": [
      "tensor([78, 74, 68, 50, 35]) <class 'torch.Tensor'>\n",
      "tensor([35, 50, 68, 74, 78]) <class 'torch.Tensor'>\n"
     ]
    }
   ],
   "source": [
    "peak_idx = torch.tensor([78, 74, 68, 50, 35])       # Peak at 74 should be ignored\n",
    "\n",
    "print(peak_idx, type(peak_idx))\n",
    "\n",
    "peak_idx, _ = peak_idx.sort()\n",
    "\n",
    "print(peak_idx, type(peak_idx))"
   ]
  },
  {
   "cell_type": "code",
   "execution_count": 132,
   "id": "b72ef051",
   "metadata": {},
   "outputs": [],
   "source": [
    "elm_idx.sort()"
   ]
  },
  {
   "cell_type": "code",
   "execution_count": 180,
   "id": "c99e1436",
   "metadata": {},
   "outputs": [
    {
     "data": {
      "text/plain": [
       "array([0.        , 0.        , 0.        , 0.        , 0.        ,\n",
       "       0.        , 0.        , 0.        , 0.        , 0.        ,\n",
       "       0.        , 0.        , 0.        , 0.        , 0.        ,\n",
       "       0.        , 0.        , 0.        , 0.        , 0.        ,\n",
       "       0.        , 0.        , 0.        , 0.        , 0.        ,\n",
       "       0.        , 0.        , 0.        , 0.        , 0.        ,\n",
       "       0.2       , 0.4       , 0.6       , 0.8       , 1.        ,\n",
       "       0.        , 0.        , 0.        , 0.        , 0.        ,\n",
       "       0.        , 0.        , 0.        , 0.        , 0.        ,\n",
       "       0.2       , 0.4       , 0.6       , 0.8       , 1.        ,\n",
       "       0.        , 0.        , 0.        , 0.        , 0.        ,\n",
       "       0.        , 0.        , 0.        , 0.        , 0.        ,\n",
       "       0.        , 0.        , 0.        , 0.3       , 0.6       ,\n",
       "       0.9       , 1.2       , 1.5       , 0.        , 0.24      ,\n",
       "       0.48      , 0.72      , 0.96      , 1.2       , 0.56666667,\n",
       "       1.13333333, 1.7       , 0.        , 0.        , 0.        ,\n",
       "       0.        , 0.        , 0.        , 0.        , 0.        ,\n",
       "       0.        , 0.        , 0.        , 0.        , 0.        ,\n",
       "       0.        , 0.        , 0.        , 0.        , 0.        ,\n",
       "       0.        , 0.        , 0.        , 0.        , 0.        ])"
      ]
     },
     "execution_count": 180,
     "metadata": {},
     "output_type": "execute_result"
    }
   ],
   "source": [
    "sig_test"
   ]
  },
  {
   "cell_type": "code",
   "execution_count": 140,
   "id": "c5d2fdc9",
   "metadata": {},
   "outputs": [
    {
     "name": "stdout",
     "output_type": "stream",
     "text": [
      "[35, 50, 68, 74, 77]\n"
     ]
    }
   ],
   "source": [
    "#elm_idx = my_target_TTELM.peak_detection(fs_rs[:,0])\n",
    "print(elm_idx)"
   ]
  },
  {
   "cell_type": "code",
   "execution_count": 221,
   "id": "e4d9a3fd",
   "metadata": {},
   "outputs": [
    {
     "data": {
      "text/plain": [
       "[<matplotlib.lines.Line2D at 0x200140c113a0>]"
      ]
     },
     "execution_count": 221,
     "metadata": {},
     "output_type": "execute_result"
    },
    {
     "data": {
      "image/png": "[encoded data removed]",
      "text/plain": [
       "<Figure size 864x432 with 1 Axes>"
      ]
     },
     "metadata": {
      "needs_background": "light"
     },
     "output_type": "display_data"
    }
   ],
   "source": [
    "tb_fs = np.arange(fs_rs.size) * 1e-3\n",
    "\n",
    "elm_ix = my_target_TTELM.peak_detection(fs_rs[:, 0])\n",
    "\n",
    "my_target_TTELM2 = target_TTELM(threshold = lambda x: 3.0 * x.mean(), deadtime=10)\n",
    "ttelm_fs = my_target_TTELM2(tb_fs, fs_rs[:, 0])\n",
    "\n",
    "\n",
    "plt.figure(figsize=(12, 6))\n",
    "#plt.figsize()\n",
    "plt.plot(tb_fs, fs_rs)\n",
    "plt.plot(tb_fs[elm_ix], fs_rs[elm_ix], 'o')\n",
    "plt.plot(tb_fs, ttelm_fs)\n"
   ]
  },
  {
   "cell_type": "code",
   "execution_count": 124,
   "id": "f9fca3f1",
   "metadata": {},
   "outputs": [
    {
     "data": {
      "text/plain": [
       "((4061, 1), (4061,))"
      ]
     },
     "execution_count": 124,
     "metadata": {},
     "output_type": "execute_result"
    }
   ],
   "source": [
    "fs_rs.shape, tb_fs.shape"
   ]
  },
  {
   "cell_type": "code",
   "execution_count": null,
   "id": "86507510",
   "metadata": {},
   "outputs": [],
   "source": []
  }
 ],
 "metadata": {
  "kernelspec": {
   "display_name": "Python 3 (ipykernel)",
   "language": "python",
   "name": "python3"
  }
 },
 "nbformat": 4,
 "nbformat_minor": 5
}
