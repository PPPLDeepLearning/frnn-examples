{
 "cells": [
  {
   "cell_type": "markdown",
   "id": "3503a43c",
   "metadata": {},
   "source": [
    "# Statistics of d3d_clear/disrupt_100.txt\n",
    "\n"
   ]
  },
  {
   "cell_type": "code",
   "execution_count": 51,
   "id": "eff15a31",
   "metadata": {},
   "outputs": [],
   "source": [
    "from os.path import join\n",
    "import numpy as np\n",
    "import h5py\n",
    "import matplotlib.pyplot as plt\n",
    "\n",
    "from tqdm import tqdm\n",
    "\n",
    "import sys\n",
    "sys.path.append(\"/home/rkube/repos/frnn-loader\")\n",
    "from frnn_loader.primitives.signal import signal_0d\n",
    "\n",
    "import pandas as pd"
   ]
  },
  {
   "cell_type": "code",
   "execution_count": 62,
   "id": "8109456c",
   "metadata": {},
   "outputs": [],
   "source": [
    "shotlist_clear = \"d3d_clear_100.txt\"\n",
    "shotlist_disrupt = \"d3d_disrupt_100.txt\"\n",
    "root  = \"/projects/FRNN/frnn_loader\"\n",
    "signal_ip = signal_0d(\"ipspr15V\")\n",
    "skip_shots = [167548, 168439, 168441, 168450, 168484, 168500, 168442, 168443, 168483, 168485, 168486]"
   ]
  },
  {
   "cell_type": "code",
   "execution_count": 53,
   "id": "916e7b3e",
   "metadata": {},
   "outputs": [],
   "source": [
    "my_df = pd.DataFrame(columns=[\"Disruptive\", \"tdisrupt\"])"
   ]
  },
  {
   "cell_type": "code",
   "execution_count": 54,
   "id": "26b56cc8",
   "metadata": {},
   "outputs": [
    {
     "name": "stderr",
     "output_type": "stream",
     "text": [
      "100%|█████████████████████████████████████████████████████████| 100/100 [00:00<00:00, 977.96it/s]\n",
      "100%|█████████████████████████████████████████████████████████| 100/100 [00:00<00:00, 903.28it/s]\n"
     ]
    }
   ],
   "source": [
    "for shotlist, ddd in zip([shotlist_clear, shotlist_disrupt], [\"clear\", \"disrupt\"]):\n",
    "\n",
    "    with open(join(root, \"..\", \"shot_lists\", shotlist), \"r\") as fp:\n",
    "        for line in tqdm(fp.readlines()):\n",
    "            # Convert shotnr to int and ttd to float\n",
    "            shotnr, ttd = [trf(val) for trf, val in zip([int, float], line.split())]\n",
    "            \n",
    "            if shotnr in skip_shots:\n",
    "                continue\n",
    "                \n",
    "            if ddd == \"clear\":\n",
    "                append_df = pd.DataFrame({\"Disruptive\": False, \"tdisrupt\": -1.0}, index=[shotnr])\n",
    "            elif ddd == \"disrupt\":\n",
    "                append_df = pd.DataFrame({\"Disruptive\": True, \"tdisrupt\": ttd}, index=[shotnr])\n",
    "                \n",
    "            my_df = my_df.append(append_df)"
   ]
  },
  {
   "cell_type": "code",
   "execution_count": 56,
   "id": "0b41a996",
   "metadata": {},
   "outputs": [
    {
     "data": {
      "image/png": "[encoded data removed]",
      "text/plain": [
       "<Figure size 432x288 with 1 Axes>"
      ]
     },
     "metadata": {
      "needs_background": "light"
     },
     "output_type": "display_data"
    }
   ],
   "source": [
    "plt.scatter(my_df.index, my_df.tdisrupt)\n",
    "plt.xlabel(\"Shot number\")\n",
    "plt.ylabel(\"T_disrupt\")\n",
    "plt.savefig(\"shot_vs_tdisrupt.png\")"
   ]
  },
  {
   "cell_type": "code",
   "execution_count": 57,
   "id": "f9bde384",
   "metadata": {},
   "outputs": [
    {
     "data": {
      "image/png": "[encoded data removed]",
      "text/plain": [
       "<Figure size 432x288 with 1 Axes>"
      ]
     },
     "metadata": {
      "needs_background": "light"
     },
     "output_type": "display_data"
    }
   ],
   "source": [
    "plt.hist(my_df.tdisrupt, bins=10)\n",
    "plt.xlabel(\"T_disrupt\")\n",
    "plt.ylabel(\"Frequecy\")\n",
    "plt.savefig(\"Tdisrupt_hist.png\")"
   ]
  },
  {
   "cell_type": "code",
   "execution_count": 32,
   "id": "02a04d8d",
   "metadata": {},
   "outputs": [
    {
     "name": "stderr",
     "output_type": "stream",
     "text": [
      "100%|███████████████████████████████████████████████████████████████████| 100/100 [00:09<00:00, 10.84it/s]\n",
      "100%|███████████████████████████████████████████████████████████████████| 100/100 [00:09<00:00, 10.79it/s]\n"
     ]
    }
   ],
   "source": [
    "for shotlist, ddd in zip([shotlist_clear, shotlist_disrupt], [\"clear\", \"disrupt\"]):\n",
    "\n",
    "    with open(join(root, \"..\", \"shot_lists\", shotlist), \"r\") as fp:\n",
    "        for line in tqdm(fp.readlines()):\n",
    "            # Convert shotnr to int and ttd to float\n",
    "            shotnr, ttd = [trf(val) for trf, val in zip([int, float], line.split())]\n",
    "            \n",
    "            if shotnr in skip_shots:\n",
    "                continue\n",
    "\n",
    "            try:\n",
    "                with h5py.File(join(root, \"D3D\", f\"{shotnr}.h5\"), \"r\") as fp:\n",
    "                    tb = fp[signal_ip.info[\"LocalPath\"]][\"tb\"][:]\n",
    "                    data = fp[signal_ip.info[\"LocalPath\"]][\"zdata\"][:]\n",
    "            except:\n",
    "                continue\n",
    "\n",
    "            fig = plt.figure()\n",
    "            ax = fig.add_axes([0.15, 0.15, 0.8, 0.8])\n",
    "            ax.plot(tb, data, label=f\"{shotnr}\")\n",
    "            ax.set_xlabel(\"time [ms]\")\n",
    "            ax.set_ylabel(\"Ip [MA]\")\n",
    "            ax.set_title(ddd)\n",
    "            fig.savefig(f\"plots/{shotnr}_ip.png\")\n",
    "            plt.close(fig)"
   ]
  },
  {
   "cell_type": "code",
   "execution_count": 59,
   "id": "51f1c355",
   "metadata": {},
   "outputs": [
    {
     "data": {
      "text/html": [
       "<div>\n",
       "<style scoped>\n",
       "    .dataframe tbody tr th:only-of-type {\n",
       "        vertical-align: middle;\n",
       "    }\n",
       "\n",
       "    .dataframe tbody tr th {\n",
       "        vertical-align: top;\n",
       "    }\n",
       "\n",
       "    .dataframe thead th {\n",
       "        text-align: right;\n",
       "    }\n",
       "</style>\n",
       "<table border=\"1\" class=\"dataframe\">\n",
       "  <thead>\n",
       "    <tr style=\"text-align: right;\">\n",
       "      <th></th>\n",
       "      <th>Disruptive</th>\n",
       "      <th>tdisrupt</th>\n",
       "    </tr>\n",
       "  </thead>\n",
       "  <tbody>\n",
       "    <tr>\n",
       "      <th>167475</th>\n",
       "      <td>False</td>\n",
       "      <td>-1.0000</td>\n",
       "    </tr>\n",
       "    <tr>\n",
       "      <th>167481</th>\n",
       "      <td>False</td>\n",
       "      <td>-1.0000</td>\n",
       "    </tr>\n",
       "    <tr>\n",
       "      <th>167482</th>\n",
       "      <td>False</td>\n",
       "      <td>-1.0000</td>\n",
       "    </tr>\n",
       "    <tr>\n",
       "      <th>167483</th>\n",
       "      <td>False</td>\n",
       "      <td>-1.0000</td>\n",
       "    </tr>\n",
       "    <tr>\n",
       "      <th>167484</th>\n",
       "      <td>False</td>\n",
       "      <td>-1.0000</td>\n",
       "    </tr>\n",
       "    <tr>\n",
       "      <th>...</th>\n",
       "      <td>...</td>\n",
       "      <td>...</td>\n",
       "    </tr>\n",
       "    <tr>\n",
       "      <th>168549</th>\n",
       "      <td>True</td>\n",
       "      <td>7.0320</td>\n",
       "    </tr>\n",
       "    <tr>\n",
       "      <th>168550</th>\n",
       "      <td>True</td>\n",
       "      <td>6.3075</td>\n",
       "    </tr>\n",
       "    <tr>\n",
       "      <th>168552</th>\n",
       "      <td>True</td>\n",
       "      <td>7.0195</td>\n",
       "    </tr>\n",
       "    <tr>\n",
       "      <th>168553</th>\n",
       "      <td>True</td>\n",
       "      <td>6.1415</td>\n",
       "    </tr>\n",
       "    <tr>\n",
       "      <th>168555</th>\n",
       "      <td>True</td>\n",
       "      <td>6.7040</td>\n",
       "    </tr>\n",
       "  </tbody>\n",
       "</table>\n",
       "<p>189 rows × 2 columns</p>\n",
       "</div>"
      ],
      "text/plain": [
       "       Disruptive  tdisrupt\n",
       "167475      False   -1.0000\n",
       "167481      False   -1.0000\n",
       "167482      False   -1.0000\n",
       "167483      False   -1.0000\n",
       "167484      False   -1.0000\n",
       "...           ...       ...\n",
       "168549       True    7.0320\n",
       "168550       True    6.3075\n",
       "168552       True    7.0195\n",
       "168553       True    6.1415\n",
       "168555       True    6.7040\n",
       "\n",
       "[189 rows x 2 columns]"
      ]
     },
     "execution_count": 59,
     "metadata": {},
     "output_type": "execute_result"
    }
   ],
   "source": [
    "my_df"
   ]
  },
  {
   "cell_type": "code",
   "execution_count": null,
   "id": "a19a4b3e",
   "metadata": {},
   "outputs": [],
   "source": []
  }
 ],
 "metadata": {
  "kernelspec": {
   "display_name": "Python 3 (ipykernel)",
   "language": "python",
   "name": "python3"
  },
  "language_info": {
   "codemirror_mode": {
    "name": "ipython",
    "version": 3
   },
   "file_extension": ".py",
   "mimetype": "text/x-python",
   "name": "python",
   "nbconvert_exporter": "python",
   "pygments_lexer": "ipython3",
   "version": "3.8.13"
  }
 },
 "nbformat": 4,
 "nbformat_minor": 5
}
