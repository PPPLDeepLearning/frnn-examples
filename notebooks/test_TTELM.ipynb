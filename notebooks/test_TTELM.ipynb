{
 "cells": [
  {
   "cell_type": "markdown",
   "id": "d713a5ad",
   "metadata": {},
   "source": [
    "# Test time-to-ELM target on real data"
   ]
  },
  {
   "cell_type": "code",
   "execution_count": 1,
   "id": "3aa8caf4",
   "metadata": {},
   "outputs": [],
   "source": [
    "import numpy as np\n",
    "import logging\n",
    "\n",
    "import torch\n",
    "# from torch.utils.data import DataLoader\n",
    "# import torch.nn.functional as F\n",
    "# import torch.nn as nn\n",
    "# import torch.optim as optim\n",
    "\n",
    "from tqdm import tqdm\n",
    "\n",
    "import sys\n",
    "sys.path.append(\"/home/rkube/repos/frnn-loader\")\n",
    "\n",
    "import matplotlib.pyplot as plt"
   ]
  },
  {
   "cell_type": "code",
   "execution_count": 3,
   "id": "e409495b",
   "metadata": {},
   "outputs": [],
   "source": [
    "logging.basicConfig(filename=\"test_TTELM.log\",\n",
    "                    format=\"%(asctime)s    %(message)s\",\n",
    "                    encoding=\"utf-8\",\n",
    "                    level=logging.INFO)"
   ]
  },
  {
   "cell_type": "code",
   "execution_count": 4,
   "id": "345a05f7",
   "metadata": {},
   "outputs": [],
   "source": [
    "from frnn_loader.backends.fetchers import fetcher_d3d_v1\n",
    "from frnn_loader.backends.backend_hdf5 import backend_hdf5\n",
    "from frnn_loader.primitives.filters import filter_ip_thresh\n",
    "from frnn_loader.primitives.resamplers import resampler_causal\n",
    "from frnn_loader.primitives.signal import signal_0d\n",
    "from frnn_loader.primitives.targets import target_TTELM, target_NULL\n",
    "from frnn_loader.loaders.frnn_dataset_disk import shot_dataset_disk\n",
    "\n",
    "from frnn_loader.utils.errors import SignalCorruptedError, NotDownloadedError"
   ]
  },
  {
   "cell_type": "code",
   "execution_count": 5,
   "id": "a148c603",
   "metadata": {},
   "outputs": [],
   "source": [
    "root = \"/projects/FRNN/frnn_loader\"\n",
    "\n",
    "# 1/ Describe the dataset\n",
    "predictor_tags = (\n",
    "    \"q95\",\n",
    "    \"efsli\",\n",
    "    \"ipspr15V\",\n",
    "    \"fs07\",\n",
    "    \"efsbetan\",\n",
    "    \"efswmhd\",\n",
    "    \"dssdenest\",\n",
    "    \"pradcore\",\n",
    "    \"pradedge\",\n",
    "    \"bmspinj\",\n",
    "    \"bmstinj\",\n",
    "    \"ipsiptargt\",\n",
    "    \"ipeecoil\",\n",
    ")\n",
    "predictor_list = tuple([signal_0d(tag) for tag in predictor_tags])\n",
    "\n",
    "\n",
    "shotnr = 174829"
   ]
  },
  {
   "cell_type": "code",
   "execution_count": 6,
   "id": "7d12bc78",
   "metadata": {},
   "outputs": [],
   "source": [
    "# Instantiate the filter we use to crimp the shot times\n",
    "dt = 1.0 # Time used for resampling\n",
    "ip_filter = filter_ip_thresh(0.2)\n",
    "signal_ip = signal_0d(\"ipspr15V\")\n",
    "my_backend = backend_hdf5(root)\n",
    "my_fetcher = fetcher_d3d_v1()\n",
    "my_resampler = resampler_causal(0.0, 5000.0, dt)\n"
   ]
  },
  {
   "cell_type": "code",
   "execution_count": 7,
   "id": "c12b5b11",
   "metadata": {},
   "outputs": [],
   "source": [
    "ds = shot_dataset_disk(shotnr, \n",
    "    predictors=predictor_list,\n",
    "    resampler=my_resampler,\n",
    "    backend_file=my_backend,\n",
    "    fetcher=my_fetcher,\n",
    "    root=root,\n",
    "    download=True,\n",
    "    normalizer=None,\n",
    "    is_disruptive=False,\n",
    "    target=target_TTELM,\n",
    "    dtype=torch.float32)\n"
   ]
  },
  {
   "cell_type": "code",
   "execution_count": null,
   "id": "f311c561",
   "metadata": {},
   "outputs": [],
   "source": []
  },
  {
   "cell_type": "code",
   "execution_count": 8,
   "id": "b8efd804",
   "metadata": {},
   "outputs": [
    {
     "ename": "KeyError",
     "evalue": "\"Unable to open object (object 'target' doesn't exist)\"",
     "output_type": "error",
     "traceback": [
      "\u001b[0;31m---------------------------------------------------------------------------\u001b[0m",
      "\u001b[0;31mKeyError\u001b[0m                                  Traceback (most recent call last)",
      "\u001b[1;32m/home/rkube/mnt/traverse/repos/frnn_examples/notebooks/test_TTELM.ipynb Cell 8\u001b[0m in \u001b[0;36m<cell line: 1>\u001b[0;34m()\u001b[0m\n\u001b[0;32m----> <a href='vscode-notebook-cell:/home/rkube/mnt/traverse/repos/frnn_examples/notebooks/test_TTELM.ipynb#W6sZmlsZQ%3D%3D?line=0'>1</a>\u001b[0m target \u001b[39m=\u001b[39m ds[:][\u001b[39m1\u001b[39m]\n",
      "File \u001b[0;32m~/repos/frnn-loader/frnn_loader/loaders/frnn_dataset_disk.py:328\u001b[0m, in \u001b[0;36mshot_dataset_disk.__getitem__\u001b[0;34m(self, idx)\u001b[0m\n\u001b[1;32m    325\u001b[0m         current_ch \u001b[39m+\u001b[39m\u001b[39m=\u001b[39m pred\u001b[39m.\u001b[39mnum_channels\n\u001b[1;32m    326\u001b[0m     \u001b[39m# Fetch prediction target\u001b[39;00m\n\u001b[1;32m    327\u001b[0m     \u001b[39m# Reshape ttd to size (seq_length, 1)\u001b[39;00m\n\u001b[0;32m--> 328\u001b[0m     target \u001b[39m=\u001b[39m torch\u001b[39m.\u001b[39mtensor(fp[\u001b[39mf\u001b[39;49m\u001b[39m\"\u001b[39;49m\u001b[39m/\u001b[39;49m\u001b[39m{\u001b[39;49;00m\u001b[39mself\u001b[39;49m\u001b[39m.\u001b[39;49mgroup_name\u001b[39m}\u001b[39;49;00m\u001b[39m/target\u001b[39;49m\u001b[39m\"\u001b[39;49m][idx_sorted])\u001b[39m.\u001b[39mreshape(\u001b[39m-\u001b[39m\u001b[39m1\u001b[39m, \u001b[39m1\u001b[39m)\n\u001b[1;32m    330\u001b[0m \u001b[39mreturn\u001b[39;00m output, target\n",
      "File \u001b[0;32mh5py/_objects.pyx:54\u001b[0m, in \u001b[0;36mh5py._objects.with_phil.wrapper\u001b[0;34m()\u001b[0m\n",
      "File \u001b[0;32mh5py/_objects.pyx:55\u001b[0m, in \u001b[0;36mh5py._objects.with_phil.wrapper\u001b[0;34m()\u001b[0m\n",
      "File \u001b[0;32m~/.conda/envs/frnn/lib/python3.8/site-packages/h5py/_hl/group.py:264\u001b[0m, in \u001b[0;36mGroup.__getitem__\u001b[0;34m(self, name)\u001b[0m\n\u001b[1;32m    262\u001b[0m         \u001b[39mraise\u001b[39;00m \u001b[39mValueError\u001b[39;00m(\u001b[39m\"\u001b[39m\u001b[39mInvalid HDF5 object reference\u001b[39m\u001b[39m\"\u001b[39m)\n\u001b[1;32m    263\u001b[0m \u001b[39melse\u001b[39;00m:\n\u001b[0;32m--> 264\u001b[0m     oid \u001b[39m=\u001b[39m h5o\u001b[39m.\u001b[39;49mopen(\u001b[39mself\u001b[39;49m\u001b[39m.\u001b[39;49mid, \u001b[39mself\u001b[39;49m\u001b[39m.\u001b[39;49m_e(name), lapl\u001b[39m=\u001b[39;49m\u001b[39mself\u001b[39;49m\u001b[39m.\u001b[39;49m_lapl)\n\u001b[1;32m    266\u001b[0m otype \u001b[39m=\u001b[39m h5i\u001b[39m.\u001b[39mget_type(oid)\n\u001b[1;32m    267\u001b[0m \u001b[39mif\u001b[39;00m otype \u001b[39m==\u001b[39m h5i\u001b[39m.\u001b[39mGROUP:\n",
      "File \u001b[0;32mh5py/_objects.pyx:54\u001b[0m, in \u001b[0;36mh5py._objects.with_phil.wrapper\u001b[0;34m()\u001b[0m\n",
      "File \u001b[0;32mh5py/_objects.pyx:55\u001b[0m, in \u001b[0;36mh5py._objects.with_phil.wrapper\u001b[0;34m()\u001b[0m\n",
      "File \u001b[0;32mh5py/h5o.pyx:190\u001b[0m, in \u001b[0;36mh5py.h5o.open\u001b[0;34m()\u001b[0m\n",
      "\u001b[0;31mKeyError\u001b[0m: \"Unable to open object (object 'target' doesn't exist)\""
     ]
    }
   ],
   "source": [
    "target = ds[:][1];"
   ]
  },
  {
   "cell_type": "code",
   "execution_count": 8,
   "id": "df5ad22b",
   "metadata": {},
   "outputs": [
    {
     "data": {
      "text/plain": [
       "[<matplotlib.lines.Line2D at 0x20004dfeef40>]"
      ]
     },
     "execution_count": 8,
     "metadata": {},
     "output_type": "execute_result"
    },
    {
     "data": {
      "image/png": "[encoded data removed]",
      "text/plain": [
       "<Figure size 432x288 with 1 Axes>"
      ]
     },
     "metadata": {
      "needs_background": "light"
     },
     "output_type": "display_data"
    }
   ],
   "source": [
    "plt.plot(target)"
   ]
  },
  {
   "cell_type": "code",
   "execution_count": 13,
   "id": "9becc1e0",
   "metadata": {},
   "outputs": [],
   "source": [
    "res = [p for p in predictor_list if p == signal_0d(\"efsli\")]"
   ]
  },
  {
   "cell_type": "code",
   "execution_count": 16,
   "id": "e2946960",
   "metadata": {},
   "outputs": [
    {
     "ename": "ValueError",
     "evalue": "tuple.index(x): x not in tuple",
     "output_type": "error",
     "traceback": [
      "\u001b[0;31m---------------------------------------------------------------------------\u001b[0m",
      "\u001b[0;31mValueError\u001b[0m                                Traceback (most recent call last)",
      "\u001b[1;32m/home/rkube/mnt/traverse/repos/frnn_examples/notebooks/test_TTELM.ipynb Cell 10\u001b[0m in \u001b[0;36m<cell line: 1>\u001b[0;34m()\u001b[0m\n\u001b[0;32m----> <a href='vscode-notebook-cell:/home/rkube/mnt/traverse/repos/frnn_examples/notebooks/test_TTELM.ipynb#X12sZmlsZQ%3D%3D?line=0'>1</a>\u001b[0m predictor_list\u001b[39m.\u001b[39;49mindex(signal_0d(\u001b[39m\"\u001b[39;49m\u001b[39mqmin\u001b[39;49m\u001b[39m\"\u001b[39;49m))\n",
      "\u001b[0;31mValueError\u001b[0m: tuple.index(x): x not in tuple"
     ]
    }
   ],
   "source": [
    "predictor_list.index(signal_0d(\"qmin\"))"
   ]
  },
  {
   "cell_type": "code",
   "execution_count": 17,
   "id": "a2e2967e",
   "metadata": {},
   "outputs": [],
   "source": [
    "label = \"foo\""
   ]
  },
  {
   "cell_type": "code",
   "execution_count": 18,
   "id": "c4abd1c3",
   "metadata": {},
   "outputs": [
    {
     "data": {
      "text/plain": [
       "True"
      ]
     },
     "execution_count": 18,
     "metadata": {},
     "output_type": "execute_result"
    }
   ],
   "source": [
    "label + \"\" == label"
   ]
  },
  {
   "cell_type": "code",
   "execution_count": 19,
   "id": "72ef4ddf",
   "metadata": {},
   "outputs": [
    {
     "ename": "TypeError",
     "evalue": "can only concatenate str (not \"NoneType\") to str",
     "output_type": "error",
     "traceback": [
      "\u001b[0;31m---------------------------------------------------------------------------\u001b[0m",
      "\u001b[0;31mTypeError\u001b[0m                                 Traceback (most recent call last)",
      "\u001b[1;32m/home/rkube/mnt/traverse/repos/frnn_examples/notebooks/test_TTELM.ipynb Cell 13\u001b[0m in \u001b[0;36m<cell line: 1>\u001b[0;34m()\u001b[0m\n\u001b[0;32m----> <a href='vscode-notebook-cell:/home/rkube/mnt/traverse/repos/frnn_examples/notebooks/test_TTELM.ipynb#X15sZmlsZQ%3D%3D?line=0'>1</a>\u001b[0m label \u001b[39m+\u001b[39;49m \u001b[39mNone\u001b[39;49;00m\n",
      "\u001b[0;31mTypeError\u001b[0m: can only concatenate str (not \"NoneType\") to str"
     ]
    }
   ],
   "source": [
    "label + None"
   ]
  },
  {
   "cell_type": "code",
   "execution_count": 21,
   "id": "afef4323",
   "metadata": {},
   "outputs": [
    {
     "ename": "NameError",
     "evalue": "name 'Error' is not defined",
     "output_type": "error",
     "traceback": [
      "\u001b[0;31m---------------------------------------------------------------------------\u001b[0m",
      "\u001b[0;31mNameError\u001b[0m                                 Traceback (most recent call last)",
      "\u001b[1;32m/home/rkube/mnt/traverse/repos/frnn_examples/notebooks/test_TTELM.ipynb Cell 14\u001b[0m in \u001b[0;36m<cell line: 1>\u001b[0;34m()\u001b[0m\n\u001b[0;32m----> <a href='vscode-notebook-cell:/home/rkube/mnt/traverse/repos/frnn_examples/notebooks/test_TTELM.ipynb#X16sZmlsZQ%3D%3D?line=0'>1</a>\u001b[0m \u001b[39misinstance\u001b[39m(\u001b[39mTypeError\u001b[39;00m, Error)\n",
      "\u001b[0;31mNameError\u001b[0m: name 'Error' is not defined"
     ]
    }
   ],
   "source": [
    "isinstance(TypeError, Error)"
   ]
  },
  {
   "cell_type": "code",
   "execution_count": 22,
   "id": "7bbad6e9",
   "metadata": {},
   "outputs": [
    {
     "ename": "AttributeError",
     "evalue": "'str' object has no attribute 'info'",
     "output_type": "error",
     "traceback": [
      "\u001b[0;31m---------------------------------------------------------------------------\u001b[0m",
      "\u001b[0;31mAttributeError\u001b[0m                            Traceback (most recent call last)",
      "\u001b[1;32m/home/rkube/mnt/traverse/repos/frnn_examples/notebooks/test_TTELM.ipynb Cell 15\u001b[0m in \u001b[0;36m<cell line: 1>\u001b[0;34m()\u001b[0m\n\u001b[0;32m----> <a href='vscode-notebook-cell:/home/rkube/mnt/traverse/repos/frnn_examples/notebooks/test_TTELM.ipynb#X20sZmlsZQ%3D%3D?line=0'>1</a>\u001b[0m label\u001b[39m.\u001b[39;49minfo\n",
      "\u001b[0;31mAttributeError\u001b[0m: 'str' object has no attribute 'info'"
     ]
    }
   ],
   "source": [
    "label.info"
   ]
  },
  {
   "cell_type": "code",
   "execution_count": 23,
   "id": "e714c508",
   "metadata": {},
   "outputs": [],
   "source": [
    "import h5py"
   ]
  },
  {
   "cell_type": "code",
   "execution_count": 24,
   "id": "8b36037d",
   "metadata": {},
   "outputs": [
    {
     "ename": "KeyError",
     "evalue": "\"Unable to open object (object 'foo' doesn't exist)\"",
     "output_type": "error",
     "traceback": [
      "\u001b[0;31m---------------------------------------------------------------------------\u001b[0m",
      "\u001b[0;31mKeyError\u001b[0m                                  Traceback (most recent call last)",
      "\u001b[1;32m/home/rkube/mnt/traverse/repos/frnn_examples/notebooks/test_TTELM.ipynb Cell 17\u001b[0m in \u001b[0;36m<cell line: 1>\u001b[0;34m()\u001b[0m\n\u001b[1;32m      <a href='vscode-notebook-cell:/home/rkube/mnt/traverse/repos/frnn_examples/notebooks/test_TTELM.ipynb#X22sZmlsZQ%3D%3D?line=0'>1</a>\u001b[0m \u001b[39mwith\u001b[39;00m h5py\u001b[39m.\u001b[39mFile(\u001b[39m\"\u001b[39m\u001b[39m/projects/FRNN/frnn_loader/eqn0b34y.h5\u001b[39m\u001b[39m\"\u001b[39m, \u001b[39m\"\u001b[39m\u001b[39mr\u001b[39m\u001b[39m\"\u001b[39m) \u001b[39mas\u001b[39;00m fp:\n\u001b[0;32m----> <a href='vscode-notebook-cell:/home/rkube/mnt/traverse/repos/frnn_examples/notebooks/test_TTELM.ipynb#X22sZmlsZQ%3D%3D?line=1'>2</a>\u001b[0m     fp[\u001b[39m\"\u001b[39;49m\u001b[39m/foo\u001b[39;49m\u001b[39m\"\u001b[39;49m]\n",
      "File \u001b[0;32mh5py/_objects.pyx:54\u001b[0m, in \u001b[0;36mh5py._objects.with_phil.wrapper\u001b[0;34m()\u001b[0m\n",
      "File \u001b[0;32mh5py/_objects.pyx:55\u001b[0m, in \u001b[0;36mh5py._objects.with_phil.wrapper\u001b[0;34m()\u001b[0m\n",
      "File \u001b[0;32m~/.conda/envs/frnn/lib/python3.8/site-packages/h5py/_hl/group.py:264\u001b[0m, in \u001b[0;36mGroup.__getitem__\u001b[0;34m(self, name)\u001b[0m\n\u001b[1;32m    262\u001b[0m         \u001b[39mraise\u001b[39;00m \u001b[39mValueError\u001b[39;00m(\u001b[39m\"\u001b[39m\u001b[39mInvalid HDF5 object reference\u001b[39m\u001b[39m\"\u001b[39m)\n\u001b[1;32m    263\u001b[0m \u001b[39melse\u001b[39;00m:\n\u001b[0;32m--> 264\u001b[0m     oid \u001b[39m=\u001b[39m h5o\u001b[39m.\u001b[39;49mopen(\u001b[39mself\u001b[39;49m\u001b[39m.\u001b[39;49mid, \u001b[39mself\u001b[39;49m\u001b[39m.\u001b[39;49m_e(name), lapl\u001b[39m=\u001b[39;49m\u001b[39mself\u001b[39;49m\u001b[39m.\u001b[39;49m_lapl)\n\u001b[1;32m    266\u001b[0m otype \u001b[39m=\u001b[39m h5i\u001b[39m.\u001b[39mget_type(oid)\n\u001b[1;32m    267\u001b[0m \u001b[39mif\u001b[39;00m otype \u001b[39m==\u001b[39m h5i\u001b[39m.\u001b[39mGROUP:\n",
      "File \u001b[0;32mh5py/_objects.pyx:54\u001b[0m, in \u001b[0;36mh5py._objects.with_phil.wrapper\u001b[0;34m()\u001b[0m\n",
      "File \u001b[0;32mh5py/_objects.pyx:55\u001b[0m, in \u001b[0;36mh5py._objects.with_phil.wrapper\u001b[0;34m()\u001b[0m\n",
      "File \u001b[0;32mh5py/h5o.pyx:190\u001b[0m, in \u001b[0;36mh5py.h5o.open\u001b[0;34m()\u001b[0m\n",
      "\u001b[0;31mKeyError\u001b[0m: \"Unable to open object (object 'foo' doesn't exist)\""
     ]
    }
   ],
   "source": [
    "with h5py.File(\"/projects/FRNN/frnn_loader/eqn0b34y.h5\", \"r\") as fp:\n",
    "    fp[\"/foo\"]"
   ]
  },
  {
   "cell_type": "code",
   "execution_count": null,
   "id": "114090aa",
   "metadata": {},
   "outputs": [],
   "source": []
  }
 ],
 "metadata": {
  "kernelspec": {
   "display_name": "Python 3 (ipykernel)",
   "language": "python",
   "name": "python3"
  },
  "language_info": {
   "codemirror_mode": {
    "name": "ipython",
    "version": 3
   },
   "file_extension": ".py",
   "mimetype": "text/x-python",
   "name": "python",
   "nbconvert_exporter": "python",
   "pygments_lexer": "ipython3",
   "version": "3.8.13"
  }
 },
 "nbformat": 4,
 "nbformat_minor": 5
}
